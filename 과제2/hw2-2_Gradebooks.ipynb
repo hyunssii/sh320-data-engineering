{
 "cells": [
  {
   "cell_type": "markdown",
   "id": "13925321",
   "metadata": {},
   "source": [
    "### 과제2: Gradebook\n",
    "----"
   ]
  },
  {
   "cell_type": "markdown",
   "id": "def9e027",
   "metadata": {},
   "source": [
    "Create Some Lists"
   ]
  },
  {
   "cell_type": "code",
   "execution_count": 1,
   "id": "e5d34daa",
   "metadata": {},
   "outputs": [
    {
     "name": "stdout",
     "output_type": "stream",
     "text": [
      "['physics', 'calculus', 'poetry', 'history']\n",
      "[98, 97, 85, 88]\n"
     ]
    }
   ],
   "source": [
    "subjects = ['physics','calculus','poetry','history']\n",
    "grades = [98,97,85,88]\n",
    "print(subjects)\n",
    "print(grades)"
   ]
  },
  {
   "cell_type": "code",
   "execution_count": 2,
   "id": "5ce6ef57",
   "metadata": {},
   "outputs": [
    {
     "data": {
      "text/plain": [
       "[['physics', 98], ['calculus', 97], ['poetry', 85], ['history', 88]]"
      ]
     },
     "execution_count": 2,
     "metadata": {},
     "output_type": "execute_result"
    }
   ],
   "source": [
    "gradebook = [['physics',98],['calculus',97],['poetry',85],['history',88]]\n",
    "gradebook"
   ]
  },
  {
   "cell_type": "code",
   "execution_count": 3,
   "id": "99f04759",
   "metadata": {},
   "outputs": [
    {
     "data": {
      "text/plain": [
       "[['physics', 98],\n",
       " ['calculus', 97],\n",
       " ['poetry', 85],\n",
       " ['history', 88],\n",
       " ['conputer sclence', 100],\n",
       " ['visual arts', 93]]"
      ]
     },
     "execution_count": 3,
     "metadata": {},
     "output_type": "execute_result"
    }
   ],
   "source": [
    "gradebook.append(['conputer sclence',100])\n",
    "gradebook.append(['visual arts',93])\n",
    "gradebook"
   ]
  },
  {
   "cell_type": "code",
   "execution_count": 4,
   "id": "613e3cbf",
   "metadata": {},
   "outputs": [
    {
     "data": {
      "text/plain": [
       "[['physics', 98],\n",
       " ['calculus', 97],\n",
       " ['poetry', 85],\n",
       " ['history', 88],\n",
       " ['conputer sclence', 100],\n",
       " ['visual arts', 98]]"
      ]
     },
     "execution_count": 4,
     "metadata": {},
     "output_type": "execute_result"
    }
   ],
   "source": [
    "gradebook[-1][1] += 5\n",
    "gradebook"
   ]
  },
  {
   "cell_type": "markdown",
   "id": "9dec0e1c",
   "metadata": {},
   "source": [
    "Modify The Gradebook"
   ]
  },
  {
   "cell_type": "code",
   "execution_count": 5,
   "id": "0ed05ab0",
   "metadata": {},
   "outputs": [
    {
     "data": {
      "text/plain": [
       "[['physics', 98],\n",
       " ['calculus', 97],\n",
       " ['poetry', 'pass'],\n",
       " ['history', 88],\n",
       " ['conputer sclence', 100],\n",
       " ['visual arts', 98]]"
      ]
     },
     "execution_count": 5,
     "metadata": {},
     "output_type": "execute_result"
    }
   ],
   "source": [
    "gradebook[2].remove(85)\n",
    "gradebook[2].append('pass')\n",
    "gradebook"
   ]
  },
  {
   "cell_type": "code",
   "execution_count": 6,
   "id": "46bcbeb9",
   "metadata": {},
   "outputs": [
    {
     "data": {
      "text/plain": [
       "[['politics', 80], ['latin', 96], ['dance', 97], ['architecture', 65]]"
      ]
     },
     "execution_count": 6,
     "metadata": {},
     "output_type": "execute_result"
    }
   ],
   "source": [
    "last_semester_gradebook = [['politics',80],['latin',96],['dance',97],['architecture',65]]\n",
    "last_semester_gradebook"
   ]
  },
  {
   "cell_type": "code",
   "execution_count": 7,
   "id": "bf3621c0",
   "metadata": {},
   "outputs": [
    {
     "data": {
      "text/plain": [
       "[['politics', 80],\n",
       " ['latin', 96],\n",
       " ['dance', 97],\n",
       " ['architecture', 65],\n",
       " ['physics', 98],\n",
       " ['calculus', 97],\n",
       " ['poetry', 'pass'],\n",
       " ['history', 88],\n",
       " ['conputer sclence', 100],\n",
       " ['visual arts', 98]]"
      ]
     },
     "execution_count": 7,
     "metadata": {},
     "output_type": "execute_result"
    }
   ],
   "source": [
    "full_gradebook = last_semester_gradebook + gradebook\n",
    "full_gradebook"
   ]
  }
 ],
 "metadata": {
  "kernelspec": {
   "display_name": "base",
   "language": "python",
   "name": "python3"
  },
  "language_info": {
   "codemirror_mode": {
    "name": "ipython",
    "version": 3
   },
   "file_extension": ".py",
   "mimetype": "text/x-python",
   "name": "python",
   "nbconvert_exporter": "python",
   "pygments_lexer": "ipython3",
   "version": "3.11.7"
  }
 },
 "nbformat": 4,
 "nbformat_minor": 5
}
