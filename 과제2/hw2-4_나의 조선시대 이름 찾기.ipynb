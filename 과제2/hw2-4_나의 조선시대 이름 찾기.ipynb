{
 "cells": [
  {
   "cell_type": "markdown",
   "id": "6adfdfc7",
   "metadata": {},
   "source": [
    "### 과제 4: 나의 조선시대 이름 찾기\n",
    "----"
   ]
  },
  {
   "cell_type": "code",
   "execution_count": 1,
   "id": "ce900c1a",
   "metadata": {},
   "outputs": [
    {
     "name": "stdout",
     "output_type": "stream",
     "text": [
      "['쌍', '쇠', '복', '돌', '팽', '육', '쌍', '개', '칠', '갑', '삼', '방']\n",
      "['봉', '구', '욕', '포', '똥', '삼', '식', '석', '놈', '님', '년', '돌', '단', '득', '방', '질', '장', '걸', '래', '룡', '동', '순', '자', '박', '창', '언', '것', '포', '만', '단', '국']\n"
     ]
    }
   ],
   "source": [
    "month_list = ['쌍', '쇠', '복', '돌', '팽', '육', '쌍', '개', '칠', '갑', '삼', '방']\n",
    "day_list = ['봉', '구', '욕', '포', '똥', '삼', '식', '석', '놈', '님', \n",
    "            '년', '돌', '단', '득', '방', '질', '장', '걸', '래', '룡', \n",
    "            '동', '순', '자', '박', '창', '언', '것', '포', '만', '단', '국']\n",
    "print(month_list)\n",
    "print(day_list)"
   ]
  },
  {
   "cell_type": "code",
   "execution_count": 2,
   "id": "73fa9638",
   "metadata": {},
   "outputs": [
    {
     "name": "stdout",
     "output_type": "stream",
     "text": [
      "당신의 조선시대 이름은 이육걸 입니다.\n"
     ]
    }
   ],
   "source": [
    "def get_my_chosun_name():\n",
    "    family_name = input(\"family name(성) 입력 : \" )\n",
    "    month = int(input(\"태어난 달(1~12) 입력 : \"))\n",
    "    day = int(input(\"태어난 날 (1~31) 입력 : \"))\n",
    "\n",
    "    name_month = month_list[month-1]\n",
    "    name_day = day_list[day-1]\n",
    "\n",
    "    chosun_name = family_name + name_month + name_day\n",
    "    print(f\"당신의 조선시대 이름은 {chosun_name} 입니다.\")\n",
    "\n",
    "get_my_chosun_name()"
   ]
  }
 ],
 "metadata": {
  "kernelspec": {
   "display_name": "base",
   "language": "python",
   "name": "python3"
  },
  "language_info": {
   "codemirror_mode": {
    "name": "ipython",
    "version": 3
   },
   "file_extension": ".py",
   "mimetype": "text/x-python",
   "name": "python",
   "nbconvert_exporter": "python",
   "pygments_lexer": "ipython3",
   "version": "3.11.7"
  }
 },
 "nbformat": 4,
 "nbformat_minor": 5
}
