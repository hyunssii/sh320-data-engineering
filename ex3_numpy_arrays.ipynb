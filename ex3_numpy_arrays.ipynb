{
 "cells": [
  {
   "cell_type": "markdown",
   "metadata": {},
   "source": [
    "## <strong>3. NumPy 배열</strong>"
   ]
  },
  {
   "cell_type": "code",
   "execution_count": null,
   "metadata": {},
   "outputs": [],
   "source": [
    "# Python 패키지 설치 명령어\n",
    "!pip install numpy"
   ]
  },
  {
   "cell_type": "code",
   "execution_count": null,
   "metadata": {},
   "outputs": [],
   "source": [
    "# NumPy 불러오기\n",
    "import numpy as np"
   ]
  },
  {
   "cell_type": "markdown",
   "metadata": {},
   "source": [
    "### <strong>3.1 NumPy 배열 생성"
   ]
  },
  {
   "cell_type": "code",
   "execution_count": null,
   "metadata": {},
   "outputs": [],
   "source": [
    "# [+] 리스트 객체로부터 ndarray 객체 생성\n",
    "my_lst = [1,2,3,4,5,6]\n",
    "my_arr = ...\n",
    "\n",
    "my_arr"
   ]
  },
  {
   "cell_type": "code",
   "execution_count": null,
   "metadata": {},
   "outputs": [],
   "source": [
    "# [+] 리스트/NumPy 배열 동시에 생성\n",
    "np.array(...)"
   ]
  },
  {
   "cell_type": "markdown",
   "metadata": {},
   "source": [
    "#### **리스트 컴프리헨션 vs NumPy 배열**"
   ]
  },
  {
   "cell_type": "code",
   "execution_count": null,
   "metadata": {},
   "outputs": [],
   "source": [
    "# [+] 리스트 컴프리헨션을 이용하여 5달러씩 가격을 일괄적으로 할인하기\n",
    "prices = [20, 40, 35, 10, 25, 56]\n",
    "new_prices = ...\n",
    "\n",
    "new_prices"
   ]
  },
  {
   "cell_type": "code",
   "execution_count": null,
   "metadata": {},
   "outputs": [],
   "source": [
    "# [+] NumPy 배열의 연산을 통한 5달러씩 가격을 일괄적으로 할인하기\n",
    "prices_arr = ...   # 배열 생성\n",
    "prices_arr ...   # 가격 수정\n",
    "\n",
    "prices_arr"
   ]
  },
  {
   "cell_type": "markdown",
   "metadata": {},
   "source": [
    "#### **예제: 시험 점수 처리**"
   ]
  },
  {
   "cell_type": "code",
   "execution_count": null,
   "metadata": {},
   "outputs": [],
   "source": [
    "# 세 번의 시험에 대한 점수를 NumPy 배열로 선언\n",
    "test_1 = np.array([92, 94, 88, 91, 87])\n",
    "test_2 = np.array([79, 100, 86, 93, 91])\n",
    "test_3 = np.array([87, 85, 72, 90, 92])"
   ]
  },
  {
   "cell_type": "code",
   "execution_count": null,
   "metadata": {},
   "outputs": [],
   "source": [
    "# [+] 세 번째 시험에 2점씩 더하기\n",
    "test_3_fixed = ...\n",
    "\n",
    "test_3_fixed"
   ]
  },
  {
   "cell_type": "code",
   "execution_count": null,
   "metadata": {},
   "outputs": [],
   "source": [
    "# [+] 학생 별 전체 시험 점수 총합 계산 \n",
    "total_grade = ...\n",
    "\n",
    "total_grade"
   ]
  },
  {
   "cell_type": "code",
   "execution_count": null,
   "metadata": {},
   "outputs": [],
   "source": [
    "# [+] 학생 별 평균 시험 점수 계산\n",
    "final_grade = ...\n",
    "\n",
    "final_grade"
   ]
  },
  {
   "cell_type": "code",
   "execution_count": null,
   "metadata": {},
   "outputs": [],
   "source": [
    "# [+] 인덱싱: Jeremy의 두 번째 시험 점수\n",
    "jeremy_test_2 = ...\n",
    "\n",
    "jeremy_test_2"
   ]
  },
  {
   "cell_type": "code",
   "execution_count": null,
   "metadata": {},
   "outputs": [],
   "source": [
    "# [+] Manual과 Adwoa의 첫 번째 시험 점수\n",
    "manual_adwoa_test_1 = ...\n",
    "\n",
    "manual_adwoa_test_1"
   ]
  },
  {
   "cell_type": "code",
   "execution_count": null,
   "metadata": {},
   "outputs": [],
   "source": [
    "# [+] 전체 학생들의 점수를 2차원 배열에 저장\n",
    "student_scores = np.array([test_1, test_2, test_3_fixed])\n",
    "\n",
    "student_scores"
   ]
  },
  {
   "cell_type": "code",
   "execution_count": null,
   "metadata": {},
   "outputs": [],
   "source": [
    "# [+] 2차원 배열 인덱싱: Tanya의 세 번째 시험 점수\n",
    "..."
   ]
  },
  {
   "cell_type": "code",
   "execution_count": null,
   "metadata": {},
   "outputs": [],
   "source": [
    "# [+] 2차원 배열 슬라이싱: Cody의 전체 시험 점수\n",
    "..."
   ]
  },
  {
   "cell_type": "markdown",
   "metadata": {},
   "source": [
    "#### **배열 원소 단위의 논리 연산**"
   ]
  },
  {
   "cell_type": "code",
   "execution_count": null,
   "metadata": {},
   "outputs": [],
   "source": [
    "a = np.array([1, 20, 4, 6, 28, 88, 7, 12])\n",
    "\n",
    "# [+] 10 이상 여부를 마스킹\n",
    "mask = ...\n",
    "\n",
    "mask"
   ]
  },
  {
   "cell_type": "code",
   "execution_count": null,
   "metadata": {},
   "outputs": [],
   "source": [
    "# [+] 논리 연산을 이용하여 부분집합 구하기\n",
    "selected = ...\n",
    "\n",
    "selected"
   ]
  },
  {
   "cell_type": "code",
   "execution_count": null,
   "metadata": {},
   "outputs": [],
   "source": [
    "# [+] 논리식 결합: 논리합\n",
    "selected = ...\n",
    "\n",
    "selected"
   ]
  },
  {
   "cell_type": "code",
   "execution_count": null,
   "metadata": {},
   "outputs": [],
   "source": [
    "# [+] 논리식 결합: 논리곱\n",
    "selected = ...\n",
    "\n",
    "selected"
   ]
  },
  {
   "cell_type": "code",
   "execution_count": null,
   "metadata": {},
   "outputs": [],
   "source": [
    "# [+] 정수 배열 생성, arange(stop)\n",
    "..."
   ]
  },
  {
   "cell_type": "code",
   "execution_count": null,
   "metadata": {},
   "outputs": [],
   "source": [
    "# [+] 정수 배열 생성, arange(start, stop)\n",
    "..."
   ]
  },
  {
   "cell_type": "code",
   "execution_count": null,
   "metadata": {},
   "outputs": [],
   "source": [
    "# [+] 정수 배열 생성, arange(start, stop, interval)\n",
    "..."
   ]
  },
  {
   "cell_type": "code",
   "execution_count": null,
   "metadata": {},
   "outputs": [],
   "source": [
    "# [+] 난수 배열 생성\n",
    "...\n",
    "arr = ...\n",
    "\n",
    "arr"
   ]
  },
  {
   "cell_type": "markdown",
   "metadata": {},
   "source": [
    "### <strong>배열 조작 연산</strong>"
   ]
  },
  {
   "cell_type": "code",
   "execution_count": null,
   "metadata": {},
   "outputs": [],
   "source": [
    "# [+] 배열 속성\n",
    "print(arr...)     # 차원 수\n",
    "print(arr...)    # 형상\n",
    "print(arr...)     # 크기\n",
    "print(arr...)    # 데이터 타입\n",
    "print(arr...)  # 원소별 메모리 크기(bytes)\n",
    "print(arr...)   # 전체 메모리 크기"
   ]
  },
  {
   "cell_type": "code",
   "execution_count": null,
   "metadata": {},
   "outputs": [],
   "source": [
    "# [+] 배열 슬라이싱\n",
    "arr = np.arange(10)\n",
    "print(arr)\n",
    "\n",
    "print(arr[3:7]) # 슬라이싱(start:stop)\n",
    "print(arr[:5]) # 시작 인덱스 생략(:stop)\n",
    "print(arr[5:]) # 종료 인덱스 생략(start:)\n",
    "print(arr[::3]) # 간격(::interval)\n",
    "print(arr[2:8:2]) # 슬라이싱(start:stop:interval)"
   ]
  },
  {
   "cell_type": "code",
   "execution_count": null,
   "metadata": {},
   "outputs": [],
   "source": [
    "# 난수 배열 생성\n",
    "np.random.seed(0) \n",
    "arr = np.random.randint(10, size=(6, 8)) \n",
    "\n",
    "arr"
   ]
  },
  {
   "cell_type": "code",
   "execution_count": null,
   "metadata": {},
   "outputs": [],
   "source": [
    "# [+] 다차원 배열 슬라이싱\n",
    "arr[3:5, 4:7]"
   ]
  },
  {
   "cell_type": "code",
   "execution_count": null,
   "metadata": {},
   "outputs": [],
   "source": [
    "# 배열 슬라이스 = 뷰(view)\n",
    "arr_sub = arr[:2, :2]\n",
    "print(arr_sub)\n",
    "\n",
    "arr_sub[0, 0] = 99\n",
    "print(arr_sub)\n",
    "\n",
    "print(arr)"
   ]
  },
  {
   "cell_type": "code",
   "execution_count": null,
   "metadata": {},
   "outputs": [],
   "source": [
    "# 배열 복사본 생성\n",
    "arr_sub = arr[:2, :2].copy()\n",
    "\n",
    "arr_sub[0, 0] = 50\n",
    "print(arr_sub)\n",
    "\n",
    "print(arr)"
   ]
  },
  {
   "cell_type": "code",
   "execution_count": null,
   "metadata": {},
   "outputs": [],
   "source": [
    "# [+] 배열 재구조화: reshape()\n",
    "x = ... # 0~9로 이루어진 배열 생성 (10,)\n",
    "print(x)\n",
    "print(x.shape)\n",
    "\n",
    "x_reshaped = ... # 배열을 2X5 형상으로 재구조화\n",
    "print(x_reshaped)\n",
    "print(x_reshaped.shape)"
   ]
  },
  {
   "cell_type": "code",
   "execution_count": null,
   "metadata": {},
   "outputs": [],
   "source": [
    "# [+] 배열 재구조화: 차원 추가(np.newaxis)\n",
    "arr = np.arange(3)\n",
    "arr_new = ...\n",
    "print(arr_new)\n",
    "print(arr_new.shape)"
   ]
  },
  {
   "cell_type": "markdown",
   "metadata": {},
   "source": [
    "#### <strong> 배열 연결하기</strong>"
   ]
  },
  {
   "cell_type": "code",
   "execution_count": null,
   "metadata": {},
   "outputs": [],
   "source": [
    "# 세 개의 배열 생성\n",
    "arr_1 = np.arange(1, 4)\n",
    "arr_2 = np.arange(4, 7)\n",
    "arr_3 = np.arange(7, 10)\n",
    "\n",
    "print(arr_1, arr_2, arr_3)"
   ]
  },
  {
   "cell_type": "code",
   "execution_count": null,
   "metadata": {},
   "outputs": [],
   "source": [
    "# [+] 배열 연결: np.concatenate()\n",
    "..."
   ]
  },
  {
   "cell_type": "code",
   "execution_count": null,
   "metadata": {},
   "outputs": [],
   "source": [
    "# [+] 배열 연결: 종연결 \n",
    "..."
   ]
  },
  {
   "cell_type": "code",
   "execution_count": null,
   "metadata": {},
   "outputs": [],
   "source": [
    "# 배열 연결: 횡연결\n",
    "np.hstack([arr_1, arr_2, arr_3])"
   ]
  },
  {
   "cell_type": "code",
   "execution_count": null,
   "metadata": {},
   "outputs": [],
   "source": [
    "arr = [1, 2, 3, 99, 99, 3, 2, 1]\n",
    "print(arr)\n",
    "\n",
    "# [+] 배열 분할 [1,2,3], [99,99], [3,2,1]\n",
    "...\n",
    "print(arr_1, arr_2, arr_3)"
   ]
  }
 ],
 "metadata": {
  "kernelspec": {
   "display_name": "Python 3 (ipykernel)",
   "language": "python",
   "name": "python3"
  },
  "language_info": {
   "codemirror_mode": {
    "name": "ipython",
    "version": 3
   },
   "file_extension": ".py",
   "mimetype": "text/x-python",
   "name": "python",
   "nbconvert_exporter": "python",
   "pygments_lexer": "ipython3",
   "version": "3.11.3"
  }
 },
 "nbformat": 4,
 "nbformat_minor": 4
}
