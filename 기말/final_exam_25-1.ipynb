{
 "cells": [
  {
   "cell_type": "markdown",
   "id": "c8cd5c30-dfba-4cf4-80d3-282d897e5199",
   "metadata": {},
   "source": [
    "# **25년도 1학기 데이터엔지니어링 시험**\n",
    "+ **시험일시**: 2025년 6월 10일 오후 2시 35분 ~ 3시 45분\n",
    "+ **학번**: 202378108\n",
    "+ **성명**: 이채현\n",
    "+ **별명**: ruru"
   ]
  },
  {
   "cell_type": "markdown",
   "id": "8f0284e0-b2dd-4a84-89fc-913652570d24",
   "metadata": {
    "jp-MarkdownHeadingCollapsed": true
   },
   "source": [
    "### **시험 안내사항(필수!)**"
   ]
  },
  {
   "cell_type": "markdown",
   "id": "bbcf6021-eb30-4afb-8d24-5cc01eb81224",
   "metadata": {},
   "source": [
    "+ 시험 중에 주피터 노트북 수시로 저장: Ctrl + S\n",
    "+ 시험 파일 폴더에 data 폴더 외의 다른 파일 및 폴더는 모두 삭제 또는 다른 폴더로 이동\n",
    "+ LMS 최종 제출 전에 파일 반드시 확인할 것"
   ]
  },
  {
   "cell_type": "markdown",
   "id": "189f7e62",
   "metadata": {},
   "source": [
    "### **[부록: 메서드(함수) 및 문법]**"
   ]
  },
  {
   "cell_type": "markdown",
   "id": "a8e2085e",
   "metadata": {},
   "source": [
    "#### **NumPy**\n",
    "+ np.**nan**: NaN(Not a Number) 값 또는 결측치 표현\n",
    "+ np.**newaxis**: None 객체의 별칭\n",
    "  + 용도: 배열에 새로운 차원 추가\n",
    "+ np.**abs**(*arr*): 절댓값을 반환\n",
    "+ np.**add**(*x1*, *x2*): 원소 단위의 덧셈 연산\n",
    "  + 뺄셈: np.**subtract**(*x1*, *x2*)\n",
    "  + 곱셈: np.**multiply**(*x1*, *x2*)\n",
    "  + 나눗셈: np.**divide**(*x1*, *x2*)\n",
    "+ 거듭제곱: np.**power**(*x1*, *x2*)\n",
    "  + x1: 밑(base)\n",
    "  + x2: 지수(exponent)\n",
    "+ np.*operation*.**reduce**(*arr*): 특정 연산으로 집계\n",
    "  + 예(덧셈+집계): np.add.**reduce**(*arr*)\n",
    "  + 예(곱셈+집계): np.multiply.**reduce**(*arr*)\n",
    "+ np.*operation*.**accumulate**(*arr*): 특정 연산으로 집계 및 배열로 반환 (중간 집계 결과 포함)\n",
    "  + 예(덧셈+집계): np.add.**accumulate**(*arr*)\n",
    "+ np.**arange**(*start*, *<ins>stop</ins>*, *step*): 정수 배열 생성\n",
    "+ np.**array**(*obj*): NumPy 배열 생성\n",
    "  + 예: np.array([1, 2, 3])\n",
    "+ np.**ones**(*shape*): 1로 이루어진 배열 생성\n",
    "+ np.**zeros**(*shape*): 0으로 이루어진 배열 생성\n",
    "+ np.**any**(*arr*, *where*): 참을 만족하는 원소가 존재하는지 테스트\n",
    "  + 예: np.any(arr > 1)\n",
    "+ np.**all**(*arr*, *where*): 모든 원소가 참을 만족하는지 테스트\n",
    "  + 예: np.all(arr > 0)\n",
    "+ np.**concatenate**(*seq*): 배열 연결\n",
    "  + 예: np.concatenate([arr_1, arr_2, arr_3])\n",
    "+ np.**vstack**(*seq*): 배열 연결 (종방향)\n",
    "+ np.**hstack**(*seq*): 배열 연결 (횡방향)\n",
    "+ np.**linspace**(*start*, *stop*, *num*): 특정 구간에 대한 균일한 간격의 숫자 배열 반환\n",
    "  + 예: np.linspace(0, 100, 11)\n",
    "+ np.**log**(*arr*): 밑이 e(자연 상수)인 로그 함수\n",
    "+ np.**log2**(*arr*): 밑이 2인 로그 함수\n",
    "+ np.**log10**(*arr*): 밑이 10인 로그 함수(상용 로그)\n",
    "+ np.**count_nonzero**(*arr*): 0이 아닌 값의 개수\n",
    "+ np.**max**(*arr*): 최대 값\n",
    "  + np.**argmax**(*arr*): 최대 값의 인덱스\n",
    "+ np.**min**(*arr*): 최소 값\n",
    "  + np.**argmin**(*arr*): 최소 값의 인덱스\n",
    "+ np.**mean**(*arr*): 평균 값\n",
    "+ np.**median**(*arr*): 중앙 값\n",
    "+ np.**var**(*arr*): 분산\n",
    "+ np.**std**(*arr*): 표준편차\n",
    "+ np.**percentile**(*arr*, *quantile*): 백분위수\n",
    "+ np.**sum**(*arr*, *axis*): 총합을 집계 및 반환\n",
    "  + 예: np.sum(arr): 배열 전체 총합\n",
    "  + 예: np.sum(arr, axis=0): 행 단위 총합\n",
    "+ np.**split**(*arr*, *indices*): 배열 분할\n",
    "  + 예: np.split(arr, [3, 5])\n",
    "+ np.random.**seed**(*seed*): 랜덤 시드 값 설정\n",
    "+ np.random.**rand**(*d0, d1, ..., dn*): 난수 배열(실수) 생성\n",
    "  + 값 범위: [0, 1)\n",
    "  + d0, d1, ..., dn: 차원 별 크기\n",
    "  + 예(3X4 난수 생성): np.random.rand(3, 4)\n",
    "+ np.random.**randint**(*high*, *size*): 난수 배열(정수) 생성\n",
    "  + 예: np.random.randint(high=10, size=(3,5))\n",
    "\n",
    "**NumPy 배열 객체 속성 및 메서드**  \n",
    "NumPy 배열 객체(numpy.ndarray)에서 지원하는 속성 및 메서드\n",
    "+ np.ndarray.**ndim**: 배열 차원 수\n",
    "+ np.ndarray.**shape**: 배열 형상\n",
    "+ np.ndarray.**size**: 배열 크기\n",
    "+ np.ndarray.**dtype**: 원소의 데이터 타입\n",
    "+ np.ndarray.**itemsize**: 원소별 메모리 크기\n",
    "+ np.ndarray.**nbytes**: 전체 메모리 크기\n",
    "+ np.ndarray.**reshape**(*shape*): 배열 형상 재구조화\n",
    "  + 예: arr.reshape(shape=(2, 5))\n",
    "\n",
    "#### **Pandas**\n",
    "+ pd.**Series**(*object*, *index*): Series 객체 생성\n",
    "    + 예: pd.Series([0, 1, 2], index=['a','b','c'])\n",
    "+ pd.**DataFrame**(*object*, *index*): DataFrame 객체 생성\n",
    "    + 예: pd.DataFrame(data, index=['a', 'b', 'c', 'd'])\n",
    "+ pd.**DatetimeIndex**( ): 시간(Timestamp)으로 이루어진 배열을 생성\n",
    "+ pd.**concat**(*objs*, *axis*, *join*, *ignore_index*, *verify_integrity*): 객체를 연결\n",
    "    + *objs*: 연결할 객체들\n",
    "    + *axis*: 연산을 수행하는 차원\n",
    "    + *join*: 조인연산 유형\n",
    "    + *ignore_index*=True: 기존 인덱스를 무시하고 객체를 연결한 후 다시 인덱스를 재생성\n",
    "    + *verify_integrity*=True: 인덱스 중복될 경우 에러를 발생\n",
    "+ pd.**date_range**(*start*, *end*, *freq*): Timestamp로 이루어진 정규 시퀀스 생성\n",
    "    + *start*: 시작 일시\n",
    "    + *end*: 종료 일시\n",
    "    + *freq*: 시간 빈도\n",
    "+ pd.**period_range**(*start*, *end*, *freq*): Period로 이루어진 정규 시퀀스 생성\n",
    "+ pd.**read_csv**(*filepath*, *index* ): CSV 파일로부터 DataFrame 객체를 생성\n",
    "    + *filepath*: 경로 및 파일명\n",
    "    + *index*: 인덱스\n",
    "\n",
    "**Pandas 객체 속성 및 메서드**\n",
    "\n",
    "다음은 **DataFrame**과 **Series** 객체에 *모두 사용 가능한* 속성 및 메서드입니다.\n",
    "+ pd.DataFrame.**values**: pandas 객체로부터 값 집합을 얻기(`np.ndarray` 객체)\n",
    "+ pd.DataFrame.**index**: pandas 객체로부터 인덱스 집합을 얻기(`np.ndarray` 객체)\n",
    "+ pd.DataFrame.**iloc**: 정수 기반 인덱서\n",
    "    + 예: df.iloc[1]\n",
    "+ pd.DataFrame.**loc**: 레이블 기반 인덱서\n",
    "    + 예: df.loc[(df > 0.1) & (df < 0.5)]\n",
    "    + 예: df.loc['a':'z']\n",
    "+ pd.DataFrame.**copy**( ): 객체 복사본 생성\n",
    "+ pd.DataFrame.**corr**( ): 변수간 상관계수 측정\n",
    "+ pd.DataFrame.**dropna**(*axis*, *how*, *thresh*): 결측치를 포함하는 행(또는 열)을 삭제\n",
    "    + *axis*: 연산을 수행하는 차원\n",
    "    + *how*=any: 결측치를 한 개라도 포함하는 행(또는 열)을 삭제\n",
    "    + *how*=all: 행(또는 열)의 데이터가 모두 결측치인 경우에 해당 행(또는 열)을 삭제\n",
    "    + *thresh*: 삭제 여부를 결정하는 임계치\n",
    "+ pd.DataFrame.index.**isin**(*values*): 각 인덱스 값이 인자 값 집합에 있는지 여부의 부울 배열을 계산\n",
    "    + 예: ser_one.index.isin(ser_two.index)\n",
    "+ pd.DataFrame.**interpolate**(*inplace*=True): 선형 보간 처리 후 원본 파일 덮어쓰기\n",
    "    + *inplace*=True: 연산 결과를 해당 객체에 덮어쓰기\n",
    "+ pd.DataFrame.**resample**(*rule*).*operation*: 시계열 빈도 변경 (리샘플링)\n",
    "  + *rule*: 시계열 빈도를 표현하는 문자열 패턴\n",
    "    + 'h': 시 단위\n",
    "    + 'D': 일 단위\n",
    "    + 'B': 영업일\n",
    "    + 'W': 주 단위\n",
    "    + 'ME': 월 단위 (월말)\n",
    "    + 'MS': 월 단위 (월초)\n",
    "    \n",
    "+ pd.Series.**max**( ): 최대 값\n",
    "+ pd.Series.**min**( ): 최소 값\n",
    "+ pd.Series.**mean**( ): 평균 값\n",
    "+ pd.Series.**std**( ): 표준편차\n",
    "+ pd.Series.**quantile**(*p*): 백분위수\n",
    "    + 예: ser.quantile(0.1): 하위 10%의 데이터 "
   ]
  },
  {
   "cell_type": "markdown",
   "id": "3f29587e-a22a-4894-b6e8-07fc975f7a31",
   "metadata": {},
   "source": [
    "### **시험에 필요한 주요 라이브러리 불러오기**"
   ]
  },
  {
   "cell_type": "code",
   "execution_count": 1,
   "id": "ec2227ad-5d56-480e-bf11-2ec459204184",
   "metadata": {},
   "outputs": [],
   "source": [
    "import numpy as np\n",
    "import pandas as pd\n",
    "from datetime import datetime\n",
    "from matplotlib import pyplot as plt\n",
    "import seaborn as sns"
   ]
  },
  {
   "cell_type": "markdown",
   "id": "d7ed859c",
   "metadata": {},
   "source": [
    "### **문제: 학생별 시험점수 평균**\n",
    "---\n",
    "다음의 지시문에 따라 시험 점수를 처리하는 코드를 완성하세요."
   ]
  },
  {
   "cell_type": "markdown",
   "id": "f56ce88c",
   "metadata": {},
   "source": [
    "#### **[+] 다섯 명에 대한 세 번의 시험 점수를 NumPy 배열로 선언**\n",
    "+ ```test_1```: [92, 94, 88, 91, 87]\n",
    "+ ```test_2```: [79, 100, 86, 93, 91]\n",
    "+ ```test_3```: [87, 85, 72, 90, 92]"
   ]
  },
  {
   "cell_type": "code",
   "execution_count": 76,
   "id": "eb786526",
   "metadata": {},
   "outputs": [],
   "source": [
    "test_1 = np.array([92, 94, 88, 91, 87])\n",
    "test_2 = np.array([79, 100, 86, 93, 91])\n",
    "test_3 = np.array([87, 85, 72, 90, 92])\n"
   ]
  },
  {
   "cell_type": "markdown",
   "id": "1ec0db5a",
   "metadata": {},
   "source": [
    "#### **[+] 모든 첫 번째 시험 점수에 1점씩 더하기**\n",
    "변경 후의 `test_1`: [93, 95, 89, 92, 88]"
   ]
  },
  {
   "cell_type": "code",
   "execution_count": 77,
   "id": "fb26147e",
   "metadata": {},
   "outputs": [
    {
     "data": {
      "text/plain": [
       "array([93, 95, 89, 92, 88])"
      ]
     },
     "execution_count": 77,
     "metadata": {},
     "output_type": "execute_result"
    }
   ],
   "source": [
    "test_1_fixed = test_1+1\n",
    "test_1_fixed"
   ]
  },
  {
   "cell_type": "markdown",
   "id": "77a53cdf",
   "metadata": {},
   "source": [
    "#### **[+] 학생 별 전체 시험 점수 총합 계산**\n",
    "총합 계산에 수정된 첫 번째 시험 점수(```test_1_fixed```)를 사용"
   ]
  },
  {
   "cell_type": "code",
   "execution_count": 78,
   "id": "d4eed24b",
   "metadata": {},
   "outputs": [],
   "source": [
    "total_grade = test_1_fixed + test_2 + test_3"
   ]
  },
  {
   "cell_type": "markdown",
   "id": "602e0d54",
   "metadata": {},
   "source": [
    "#### **[+] 학생 별 평균 시험 점수 계산**"
   ]
  },
  {
   "cell_type": "code",
   "execution_count": 79,
   "id": "4381cae9",
   "metadata": {},
   "outputs": [
    {
     "data": {
      "text/plain": [
       "array([86.33333333, 93.33333333, 82.33333333, 91.66666667, 90.33333333])"
      ]
     },
     "execution_count": 79,
     "metadata": {},
     "output_type": "execute_result"
    }
   ],
   "source": [
    "final_grade = total_grade / 3\n",
    "final_grade"
   ]
  },
  {
   "cell_type": "markdown",
   "id": "929effce",
   "metadata": {},
   "source": [
    "### **문제: M2-비트코인 상관관계**\n",
    "---\n",
    "다음의 지시문에 따라 글로벌 유동성을 나타내는 M2 통화량과 비트코인 가격과의 관계를 분석하는 코드를 완성하세요."
   ]
  },
  {
   "cell_type": "markdown",
   "id": "e682e014",
   "metadata": {},
   "source": [
    "#### **데이터셋 로딩**"
   ]
  },
  {
   "cell_type": "code",
   "execution_count": 80,
   "id": "2a021f3a",
   "metadata": {},
   "outputs": [],
   "source": [
    "path = './data/'\n",
    "file_bitcoin = 'bitcoin-price.csv' # 비트코인 가격\n",
    "file_m2 = 'm2-supply.csv' # M2 통화량"
   ]
  },
  {
   "cell_type": "code",
   "execution_count": 81,
   "id": "4cb90b5e",
   "metadata": {},
   "outputs": [
    {
     "data": {
      "text/html": [
       "<div>\n",
       "<style scoped>\n",
       "    .dataframe tbody tr th:only-of-type {\n",
       "        vertical-align: middle;\n",
       "    }\n",
       "\n",
       "    .dataframe tbody tr th {\n",
       "        vertical-align: top;\n",
       "    }\n",
       "\n",
       "    .dataframe thead th {\n",
       "        text-align: right;\n",
       "    }\n",
       "</style>\n",
       "<table border=\"1\" class=\"dataframe\">\n",
       "  <thead>\n",
       "    <tr style=\"text-align: right;\">\n",
       "      <th></th>\n",
       "      <th>BTC price</th>\n",
       "    </tr>\n",
       "    <tr>\n",
       "      <th>DateTime</th>\n",
       "      <th></th>\n",
       "    </tr>\n",
       "  </thead>\n",
       "  <tbody>\n",
       "    <tr>\n",
       "      <th>2013-05-20</th>\n",
       "      <td>117.818636</td>\n",
       "    </tr>\n",
       "    <tr>\n",
       "      <th>2013-05-27</th>\n",
       "      <td>126.392906</td>\n",
       "    </tr>\n",
       "    <tr>\n",
       "      <th>2013-06-03</th>\n",
       "      <td>122.949188</td>\n",
       "    </tr>\n",
       "    <tr>\n",
       "      <th>2013-06-10</th>\n",
       "      <td>104.357567</td>\n",
       "    </tr>\n",
       "    <tr>\n",
       "      <th>2013-06-17</th>\n",
       "      <td>100.126305</td>\n",
       "    </tr>\n",
       "  </tbody>\n",
       "</table>\n",
       "</div>"
      ],
      "text/plain": [
       "             BTC price\n",
       "DateTime              \n",
       "2013-05-20  117.818636\n",
       "2013-05-27  126.392906\n",
       "2013-06-03  122.949188\n",
       "2013-06-10  104.357567\n",
       "2013-06-17  100.126305"
      ]
     },
     "execution_count": 81,
     "metadata": {},
     "output_type": "execute_result"
    }
   ],
   "source": [
    "# 비트코인 가격 데이터 불러오기\n",
    "df_bitcoin = pd.read_csv(path + file_bitcoin, parse_dates=['DateTime'], index_col='DateTime')\n",
    "df_bitcoin.head()"
   ]
  },
  {
   "cell_type": "code",
   "execution_count": 82,
   "id": "eebae633",
   "metadata": {},
   "outputs": [
    {
     "data": {
      "text/html": [
       "<div>\n",
       "<style scoped>\n",
       "    .dataframe tbody tr th:only-of-type {\n",
       "        vertical-align: middle;\n",
       "    }\n",
       "\n",
       "    .dataframe tbody tr th {\n",
       "        vertical-align: top;\n",
       "    }\n",
       "\n",
       "    .dataframe thead th {\n",
       "        text-align: right;\n",
       "    }\n",
       "</style>\n",
       "<table border=\"1\" class=\"dataframe\">\n",
       "  <thead>\n",
       "    <tr style=\"text-align: right;\">\n",
       "      <th></th>\n",
       "      <th>M2 Global Supply (USD)</th>\n",
       "    </tr>\n",
       "    <tr>\n",
       "      <th>DateTime</th>\n",
       "      <th></th>\n",
       "    </tr>\n",
       "  </thead>\n",
       "  <tbody>\n",
       "    <tr>\n",
       "      <th>2013-05-20</th>\n",
       "      <td>5.920000e+13</td>\n",
       "    </tr>\n",
       "    <tr>\n",
       "      <th>2013-05-27</th>\n",
       "      <td>5.950000e+13</td>\n",
       "    </tr>\n",
       "    <tr>\n",
       "      <th>2013-06-03</th>\n",
       "      <td>6.010000e+13</td>\n",
       "    </tr>\n",
       "    <tr>\n",
       "      <th>2013-06-10</th>\n",
       "      <td>6.060000e+13</td>\n",
       "    </tr>\n",
       "    <tr>\n",
       "      <th>2013-06-17</th>\n",
       "      <td>5.980000e+13</td>\n",
       "    </tr>\n",
       "  </tbody>\n",
       "</table>\n",
       "</div>"
      ],
      "text/plain": [
       "            M2 Global Supply (USD)\n",
       "DateTime                          \n",
       "2013-05-20            5.920000e+13\n",
       "2013-05-27            5.950000e+13\n",
       "2013-06-03            6.010000e+13\n",
       "2013-06-10            6.060000e+13\n",
       "2013-06-17            5.980000e+13"
      ]
     },
     "execution_count": 82,
     "metadata": {},
     "output_type": "execute_result"
    }
   ],
   "source": [
    "# M2 통화량 데이터 불러오기\n",
    "df_m2 = pd.read_csv(path + file_m2, parse_dates=['DateTime'], index_col='DateTime')\n",
    "df_m2.head()"
   ]
  },
  {
   "cell_type": "markdown",
   "id": "c409d691",
   "metadata": {},
   "source": [
    "#### **[+] 데이터프레임 연결**\n",
    "비트코인 가격과 M2 통화량 데이터 병합\n",
    "\n",
    "예상 결과 (```df_total```)\n",
    "```\n",
    "\t        BTC price\tM2 Global Supply (USD)\n",
    "DateTime\t\t\n",
    "2013-05-20\t117.818636\t5.920000e+13\n",
    "2013-05-27\t126.392906\t5.950000e+13\n",
    "2013-06-03\t122.949188\t6.010000e+13\n",
    "2013-06-10\t104.357567\t6.060000e+13\n",
    "2013-06-17\t100.126305\t5.980000e+13\n",
    "```"
   ]
  },
  {
   "cell_type": "code",
   "execution_count": 83,
   "id": "9540b053",
   "metadata": {},
   "outputs": [
    {
     "data": {
      "text/html": [
       "<div>\n",
       "<style scoped>\n",
       "    .dataframe tbody tr th:only-of-type {\n",
       "        vertical-align: middle;\n",
       "    }\n",
       "\n",
       "    .dataframe tbody tr th {\n",
       "        vertical-align: top;\n",
       "    }\n",
       "\n",
       "    .dataframe thead th {\n",
       "        text-align: right;\n",
       "    }\n",
       "</style>\n",
       "<table border=\"1\" class=\"dataframe\">\n",
       "  <thead>\n",
       "    <tr style=\"text-align: right;\">\n",
       "      <th></th>\n",
       "      <th>BTC price</th>\n",
       "      <th>M2 Global Supply (USD)</th>\n",
       "    </tr>\n",
       "    <tr>\n",
       "      <th>DateTime</th>\n",
       "      <th></th>\n",
       "      <th></th>\n",
       "    </tr>\n",
       "  </thead>\n",
       "  <tbody>\n",
       "    <tr>\n",
       "      <th>2013-05-20</th>\n",
       "      <td>117.818636</td>\n",
       "      <td>5.920000e+13</td>\n",
       "    </tr>\n",
       "    <tr>\n",
       "      <th>2013-05-27</th>\n",
       "      <td>126.392906</td>\n",
       "      <td>5.950000e+13</td>\n",
       "    </tr>\n",
       "    <tr>\n",
       "      <th>2013-06-03</th>\n",
       "      <td>122.949188</td>\n",
       "      <td>6.010000e+13</td>\n",
       "    </tr>\n",
       "    <tr>\n",
       "      <th>2013-06-10</th>\n",
       "      <td>104.357567</td>\n",
       "      <td>6.060000e+13</td>\n",
       "    </tr>\n",
       "    <tr>\n",
       "      <th>2013-06-17</th>\n",
       "      <td>100.126305</td>\n",
       "      <td>5.980000e+13</td>\n",
       "    </tr>\n",
       "  </tbody>\n",
       "</table>\n",
       "</div>"
      ],
      "text/plain": [
       "             BTC price  M2 Global Supply (USD)\n",
       "DateTime                                      \n",
       "2013-05-20  117.818636            5.920000e+13\n",
       "2013-05-27  126.392906            5.950000e+13\n",
       "2013-06-03  122.949188            6.010000e+13\n",
       "2013-06-10  104.357567            6.060000e+13\n",
       "2013-06-17  100.126305            5.980000e+13"
      ]
     },
     "execution_count": 83,
     "metadata": {},
     "output_type": "execute_result"
    }
   ],
   "source": [
    "# 비트코인 가격과 M2 통화량 데이터 병합\n",
    "df_total = pd.concat([df_bitcoin, df_m2], axis=1)\n",
    "df_total.head()"
   ]
  },
  {
   "cell_type": "markdown",
   "id": "365c66b0",
   "metadata": {},
   "source": [
    "#### **[+] 월별 시계열로 리샘플링**\n",
    "리샘플링을 통해 원본 시계열을 월 평균 시계열로 변환  \n",
    "인덱스(DateTime)는 매월 첫 일자(예: 2013-05-01)로 표현됨 \n",
    "\n",
    "예상 결과 (```df_monthly```)\n",
    "```\n",
    "\t        BTC price\tM2 Global Supply (USD)\n",
    "DateTime\t\t\n",
    "2013-05-01\t122.105771\t5.935000e+13\n",
    "2013-06-01\t106.619686\t6.010000e+13\n",
    "2013-07-01\t85.920000\t5.996000e+13\n",
    "2013-08-01\t101.968933\t6.057500e+13\n",
    "2013-09-01\t125.197054\t6.108000e+13\n",
    "```"
   ]
  },
  {
   "cell_type": "code",
   "execution_count": 84,
   "id": "b0b39894",
   "metadata": {},
   "outputs": [
    {
     "ename": "TypeError",
     "evalue": "Only valid with DatetimeIndex, TimedeltaIndex or PeriodIndex, but got an instance of 'RangeIndex'",
     "output_type": "error",
     "traceback": [
      "\u001b[31m---------------------------------------------------------------------------\u001b[39m",
      "\u001b[31mTypeError\u001b[39m                                 Traceback (most recent call last)",
      "\u001b[36mCell\u001b[39m\u001b[36m \u001b[39m\u001b[32mIn[84]\u001b[39m\u001b[32m, line 1\u001b[39m\n\u001b[32m----> \u001b[39m\u001b[32m1\u001b[39m df_monthly = \u001b[43mdf\u001b[49m\u001b[43m.\u001b[49m\u001b[43mresample\u001b[49m\u001b[43m(\u001b[49m\u001b[33;43m'\u001b[39;49m\u001b[33;43mMS\u001b[39;49m\u001b[33;43m'\u001b[39;49m\u001b[43m)\u001b[49m.mean() \n\u001b[32m      2\u001b[39m df_monthly.head()\n",
      "\u001b[36mFile \u001b[39m\u001b[32mc:\\Users\\3hm06\\anaconda3\\envs\\env\\Lib\\site-packages\\pandas\\core\\generic.py:9771\u001b[39m, in \u001b[36mNDFrame.resample\u001b[39m\u001b[34m(self, rule, axis, closed, label, convention, kind, on, level, origin, offset, group_keys)\u001b[39m\n\u001b[32m   9768\u001b[39m \u001b[38;5;28;01melse\u001b[39;00m:\n\u001b[32m   9769\u001b[39m     convention = \u001b[33m\"\u001b[39m\u001b[33mstart\u001b[39m\u001b[33m\"\u001b[39m\n\u001b[32m-> \u001b[39m\u001b[32m9771\u001b[39m \u001b[38;5;28;01mreturn\u001b[39;00m \u001b[43mget_resampler\u001b[49m\u001b[43m(\u001b[49m\n\u001b[32m   9772\u001b[39m \u001b[43m    \u001b[49m\u001b[43mcast\u001b[49m\u001b[43m(\u001b[49m\u001b[33;43m\"\u001b[39;49m\u001b[33;43mSeries | DataFrame\u001b[39;49m\u001b[33;43m\"\u001b[39;49m\u001b[43m,\u001b[49m\u001b[43m \u001b[49m\u001b[38;5;28;43mself\u001b[39;49m\u001b[43m)\u001b[49m\u001b[43m,\u001b[49m\n\u001b[32m   9773\u001b[39m \u001b[43m    \u001b[49m\u001b[43mfreq\u001b[49m\u001b[43m=\u001b[49m\u001b[43mrule\u001b[49m\u001b[43m,\u001b[49m\n\u001b[32m   9774\u001b[39m \u001b[43m    \u001b[49m\u001b[43mlabel\u001b[49m\u001b[43m=\u001b[49m\u001b[43mlabel\u001b[49m\u001b[43m,\u001b[49m\n\u001b[32m   9775\u001b[39m \u001b[43m    \u001b[49m\u001b[43mclosed\u001b[49m\u001b[43m=\u001b[49m\u001b[43mclosed\u001b[49m\u001b[43m,\u001b[49m\n\u001b[32m   9776\u001b[39m \u001b[43m    \u001b[49m\u001b[43maxis\u001b[49m\u001b[43m=\u001b[49m\u001b[43maxis\u001b[49m\u001b[43m,\u001b[49m\n\u001b[32m   9777\u001b[39m \u001b[43m    \u001b[49m\u001b[43mkind\u001b[49m\u001b[43m=\u001b[49m\u001b[43mkind\u001b[49m\u001b[43m,\u001b[49m\n\u001b[32m   9778\u001b[39m \u001b[43m    \u001b[49m\u001b[43mconvention\u001b[49m\u001b[43m=\u001b[49m\u001b[43mconvention\u001b[49m\u001b[43m,\u001b[49m\n\u001b[32m   9779\u001b[39m \u001b[43m    \u001b[49m\u001b[43mkey\u001b[49m\u001b[43m=\u001b[49m\u001b[43mon\u001b[49m\u001b[43m,\u001b[49m\n\u001b[32m   9780\u001b[39m \u001b[43m    \u001b[49m\u001b[43mlevel\u001b[49m\u001b[43m=\u001b[49m\u001b[43mlevel\u001b[49m\u001b[43m,\u001b[49m\n\u001b[32m   9781\u001b[39m \u001b[43m    \u001b[49m\u001b[43morigin\u001b[49m\u001b[43m=\u001b[49m\u001b[43morigin\u001b[49m\u001b[43m,\u001b[49m\n\u001b[32m   9782\u001b[39m \u001b[43m    \u001b[49m\u001b[43moffset\u001b[49m\u001b[43m=\u001b[49m\u001b[43moffset\u001b[49m\u001b[43m,\u001b[49m\n\u001b[32m   9783\u001b[39m \u001b[43m    \u001b[49m\u001b[43mgroup_keys\u001b[49m\u001b[43m=\u001b[49m\u001b[43mgroup_keys\u001b[49m\u001b[43m,\u001b[49m\n\u001b[32m   9784\u001b[39m \u001b[43m\u001b[49m\u001b[43m)\u001b[49m\n",
      "\u001b[36mFile \u001b[39m\u001b[32mc:\\Users\\3hm06\\anaconda3\\envs\\env\\Lib\\site-packages\\pandas\\core\\resample.py:2050\u001b[39m, in \u001b[36mget_resampler\u001b[39m\u001b[34m(obj, kind, **kwds)\u001b[39m\n\u001b[32m   2046\u001b[39m \u001b[38;5;250m\u001b[39m\u001b[33;03m\"\"\"\u001b[39;00m\n\u001b[32m   2047\u001b[39m \u001b[33;03mCreate a TimeGrouper and return our resampler.\u001b[39;00m\n\u001b[32m   2048\u001b[39m \u001b[33;03m\"\"\"\u001b[39;00m\n\u001b[32m   2049\u001b[39m tg = TimeGrouper(obj, **kwds)  \u001b[38;5;66;03m# type: ignore[arg-type]\u001b[39;00m\n\u001b[32m-> \u001b[39m\u001b[32m2050\u001b[39m \u001b[38;5;28;01mreturn\u001b[39;00m \u001b[43mtg\u001b[49m\u001b[43m.\u001b[49m\u001b[43m_get_resampler\u001b[49m\u001b[43m(\u001b[49m\u001b[43mobj\u001b[49m\u001b[43m,\u001b[49m\u001b[43m \u001b[49m\u001b[43mkind\u001b[49m\u001b[43m=\u001b[49m\u001b[43mkind\u001b[49m\u001b[43m)\u001b[49m\n",
      "\u001b[36mFile \u001b[39m\u001b[32mc:\\Users\\3hm06\\anaconda3\\envs\\env\\Lib\\site-packages\\pandas\\core\\resample.py:2272\u001b[39m, in \u001b[36mTimeGrouper._get_resampler\u001b[39m\u001b[34m(self, obj, kind)\u001b[39m\n\u001b[32m   2263\u001b[39m \u001b[38;5;28;01melif\u001b[39;00m \u001b[38;5;28misinstance\u001b[39m(ax, TimedeltaIndex):\n\u001b[32m   2264\u001b[39m     \u001b[38;5;28;01mreturn\u001b[39;00m TimedeltaIndexResampler(\n\u001b[32m   2265\u001b[39m         obj,\n\u001b[32m   2266\u001b[39m         timegrouper=\u001b[38;5;28mself\u001b[39m,\n\u001b[32m   (...)\u001b[39m\u001b[32m   2269\u001b[39m         gpr_index=ax,\n\u001b[32m   2270\u001b[39m     )\n\u001b[32m-> \u001b[39m\u001b[32m2272\u001b[39m \u001b[38;5;28;01mraise\u001b[39;00m \u001b[38;5;167;01mTypeError\u001b[39;00m(\n\u001b[32m   2273\u001b[39m     \u001b[33m\"\u001b[39m\u001b[33mOnly valid with DatetimeIndex, \u001b[39m\u001b[33m\"\u001b[39m\n\u001b[32m   2274\u001b[39m     \u001b[33m\"\u001b[39m\u001b[33mTimedeltaIndex or PeriodIndex, \u001b[39m\u001b[33m\"\u001b[39m\n\u001b[32m   2275\u001b[39m     \u001b[33mf\u001b[39m\u001b[33m\"\u001b[39m\u001b[33mbut got an instance of \u001b[39m\u001b[33m'\u001b[39m\u001b[38;5;132;01m{\u001b[39;00m\u001b[38;5;28mtype\u001b[39m(ax).\u001b[34m__name__\u001b[39m\u001b[38;5;132;01m}\u001b[39;00m\u001b[33m'\u001b[39m\u001b[33m\"\u001b[39m\n\u001b[32m   2276\u001b[39m )\n",
      "\u001b[31mTypeError\u001b[39m: Only valid with DatetimeIndex, TimedeltaIndex or PeriodIndex, but got an instance of 'RangeIndex'"
     ]
    }
   ],
   "source": [
    "df_monthly = df.resample('MS').mean() \n",
    "df_monthly.head()"
   ]
  },
  {
   "cell_type": "markdown",
   "id": "16b429c0",
   "metadata": {},
   "source": [
    "#### **M2-비트코인 시각화**"
   ]
  },
  {
   "cell_type": "code",
   "execution_count": 85,
   "id": "1359f33d",
   "metadata": {},
   "outputs": [
    {
     "data": {
      "image/png": "[encoded data removed]",
      "text/plain": [
       "<Figure size 1200x600 with 2 Axes>"
      ]
     },
     "metadata": {},
     "output_type": "display_data"
    }
   ],
   "source": [
    "# 시각화 시작\n",
    "fig, ax1 = plt.subplots(figsize=(12, 6))\n",
    "\n",
    "# 첫 번째 y축: M2 Supply\n",
    "color = 'tab:blue'\n",
    "ax1.set_xlabel(\"Date\")\n",
    "ax1.set_ylabel(\"M2 Supply (USD Billions)\", color=color)\n",
    "ax1.plot(df_monthly.index, df_monthly.iloc[:,1], color=color, label=\"M2 Supply\")\n",
    "ax1.tick_params(axis='y', labelcolor=color)\n",
    "\n",
    "# 두 번째 y축: Bitcoin price\n",
    "ax2 = ax1.twinx()\n",
    "color = 'tab:red'\n",
    "ax2.set_ylabel(\"Bitcoin Price (USD)\", color=color)\n",
    "ax2.plot(df_monthly.index, df_monthly.iloc[:,0], color=color, label=\"Bitcoin Price\")\n",
    "ax2.tick_params(axis='y', labelcolor=color)\n",
    "\n",
    "# 제목 추가\n",
    "plt.title(\"M2 Supply vs Bitcoin Price\")\n",
    "\n",
    "# 범례 표시 (양쪽 축 모두)\n",
    "fig.legend(loc=\"upper left\", bbox_to_anchor=(0.1, 0.9))\n",
    "\n",
    "plt.show()"
   ]
  },
  {
   "cell_type": "markdown",
   "id": "614835ca",
   "metadata": {},
   "source": [
    "#### **[+] M2-비트코인 상관계수 출력**\n",
    "```df_monthly``` 의 두 변수간 상관계수를 출력  \n",
    "예상 결과:\n",
    "```\n",
    "\t                    BTC price\tM2 Global Supply (USD)\n",
    "BTC price\t            1.000000\t0.835859\n",
    "M2 Global Supply (USD)\t    0.835859\t1.000000\n",
    "```"
   ]
  },
  {
   "cell_type": "code",
   "execution_count": null,
   "id": "d4809d98",
   "metadata": {},
   "outputs": [],
   "source": []
  },
  {
   "cell_type": "markdown",
   "id": "e4dd7c34-ea9c-419d-9d24-febf72cb60d5",
   "metadata": {
    "jp-MarkdownHeadingCollapsed": true
   },
   "source": [
    "### **문제: 교통사고 데이터의 결측치 처리**\n",
    "---\n",
    "당신은 대도시의 교통 부서에서 일하고 있으며, 도시의 주요 도로들에 대한 교통량과 사고 발생 빈도에 대한 데이터를 분석하고 있습니다. 데이터셋에는 여러 도로의 이름, 해당 도로에서의 일일 교통량, 그리고 최근 한 달 동안의 사고 발생 횟수가 포함되어 있습니다. 그러나, 일부 데이터가 누락되어 있어서 분석하기 전에 이를 정리할 필요가 있습니다.\n",
    "\n",
    "다음의 지시문에 따라 결측 데이터를 처리하는 코드를 완성하세요."
   ]
  },
  {
   "cell_type": "markdown",
   "id": "af663c71-b6f8-4c37-98e5-3d10d0f73f4c",
   "metadata": {},
   "source": [
    "#### **데이터셋 생성**"
   ]
  },
  {
   "cell_type": "code",
   "execution_count": 86,
   "id": "e6f78920-464d-494b-bcf9-55b059ecb742",
   "metadata": {},
   "outputs": [
    {
     "data": {
      "text/html": [
       "<div>\n",
       "<style scoped>\n",
       "    .dataframe tbody tr th:only-of-type {\n",
       "        vertical-align: middle;\n",
       "    }\n",
       "\n",
       "    .dataframe tbody tr th {\n",
       "        vertical-align: top;\n",
       "    }\n",
       "\n",
       "    .dataframe thead th {\n",
       "        text-align: right;\n",
       "    }\n",
       "</style>\n",
       "<table border=\"1\" class=\"dataframe\">\n",
       "  <thead>\n",
       "    <tr style=\"text-align: right;\">\n",
       "      <th></th>\n",
       "      <th>도로명</th>\n",
       "      <th>일일 교통량</th>\n",
       "      <th>사고 발생 횟수</th>\n",
       "    </tr>\n",
       "  </thead>\n",
       "  <tbody>\n",
       "    <tr>\n",
       "      <th>0</th>\n",
       "      <td>A길</td>\n",
       "      <td>10000</td>\n",
       "      <td>2.0</td>\n",
       "    </tr>\n",
       "    <tr>\n",
       "      <th>1</th>\n",
       "      <td>B대로</td>\n",
       "      <td>7500</td>\n",
       "      <td>3.0</td>\n",
       "    </tr>\n",
       "    <tr>\n",
       "      <th>2</th>\n",
       "      <td>C거리</td>\n",
       "      <td>N/A</td>\n",
       "      <td>NaN</td>\n",
       "    </tr>\n",
       "    <tr>\n",
       "      <th>3</th>\n",
       "      <td>D도로</td>\n",
       "      <td>12000</td>\n",
       "      <td>0.0</td>\n",
       "    </tr>\n",
       "    <tr>\n",
       "      <th>4</th>\n",
       "      <td>E길</td>\n",
       "      <td>NaN</td>\n",
       "      <td>NaN</td>\n",
       "    </tr>\n",
       "    <tr>\n",
       "      <th>5</th>\n",
       "      <td>F대로</td>\n",
       "      <td>7500</td>\n",
       "      <td>NaN</td>\n",
       "    </tr>\n",
       "    <tr>\n",
       "      <th>6</th>\n",
       "      <td>G길</td>\n",
       "      <td>NaN</td>\n",
       "      <td>NaN</td>\n",
       "    </tr>\n",
       "  </tbody>\n",
       "</table>\n",
       "</div>"
      ],
      "text/plain": [
       "   도로명 일일 교통량  사고 발생 횟수\n",
       "0   A길  10000       2.0\n",
       "1  B대로   7500       3.0\n",
       "2  C거리    N/A       NaN\n",
       "3  D도로  12000       0.0\n",
       "4   E길    NaN       NaN\n",
       "5  F대로   7500       NaN\n",
       "6   G길    NaN       NaN"
      ]
     },
     "execution_count": 86,
     "metadata": {},
     "output_type": "execute_result"
    }
   ],
   "source": [
    "data = {\n",
    "    '도로명': ['A길', 'B대로', 'C거리', 'D도로', 'E길', 'F대로', 'G길'],\n",
    "    '일일 교통량': [10000, 7500, 'N/A', 12000, np.nan, 7500, np.nan],\n",
    "    '사고 발생 횟수': [2, 3, np.nan, 0, np.nan, np.nan, np.nan],\n",
    "}\n",
    "df = pd.DataFrame(data)\n",
    "df"
   ]
  },
  {
   "cell_type": "markdown",
   "id": "fe6c1d14-c30a-4eec-ba69-16ac95d43736",
   "metadata": {},
   "source": [
    "#### **[+] DataFrame 내의 'N/A' 값을 np.nan으로 대체**\n",
    "+ 'N/A'는 문자열이며 결측치로 인식되지 않으므로 해당 값을 np.nan으로 대체"
   ]
  },
  {
   "cell_type": "code",
   "execution_count": 87,
   "id": "2af1a966-2aed-42cb-93a7-7adf491c2586",
   "metadata": {},
   "outputs": [
    {
     "name": "stderr",
     "output_type": "stream",
     "text": [
      "C:\\Users\\3hm06\\AppData\\Local\\Temp\\ipykernel_29220\\1095497840.py:1: FutureWarning: Downcasting behavior in `replace` is deprecated and will be removed in a future version. To retain the old behavior, explicitly call `result.infer_objects(copy=False)`. To opt-in to the future behavior, set `pd.set_option('future.no_silent_downcasting', True)`\n",
      "  df.replace('N/A', np.nan, inplace=True)\n"
     ]
    },
    {
     "data": {
      "text/html": [
       "<div>\n",
       "<style scoped>\n",
       "    .dataframe tbody tr th:only-of-type {\n",
       "        vertical-align: middle;\n",
       "    }\n",
       "\n",
       "    .dataframe tbody tr th {\n",
       "        vertical-align: top;\n",
       "    }\n",
       "\n",
       "    .dataframe thead th {\n",
       "        text-align: right;\n",
       "    }\n",
       "</style>\n",
       "<table border=\"1\" class=\"dataframe\">\n",
       "  <thead>\n",
       "    <tr style=\"text-align: right;\">\n",
       "      <th></th>\n",
       "      <th>도로명</th>\n",
       "      <th>일일 교통량</th>\n",
       "      <th>사고 발생 횟수</th>\n",
       "    </tr>\n",
       "  </thead>\n",
       "  <tbody>\n",
       "    <tr>\n",
       "      <th>0</th>\n",
       "      <td>A길</td>\n",
       "      <td>10000.0</td>\n",
       "      <td>2.0</td>\n",
       "    </tr>\n",
       "    <tr>\n",
       "      <th>1</th>\n",
       "      <td>B대로</td>\n",
       "      <td>7500.0</td>\n",
       "      <td>3.0</td>\n",
       "    </tr>\n",
       "    <tr>\n",
       "      <th>2</th>\n",
       "      <td>C거리</td>\n",
       "      <td>NaN</td>\n",
       "      <td>NaN</td>\n",
       "    </tr>\n",
       "    <tr>\n",
       "      <th>3</th>\n",
       "      <td>D도로</td>\n",
       "      <td>12000.0</td>\n",
       "      <td>0.0</td>\n",
       "    </tr>\n",
       "    <tr>\n",
       "      <th>4</th>\n",
       "      <td>E길</td>\n",
       "      <td>NaN</td>\n",
       "      <td>NaN</td>\n",
       "    </tr>\n",
       "    <tr>\n",
       "      <th>5</th>\n",
       "      <td>F대로</td>\n",
       "      <td>7500.0</td>\n",
       "      <td>NaN</td>\n",
       "    </tr>\n",
       "    <tr>\n",
       "      <th>6</th>\n",
       "      <td>G길</td>\n",
       "      <td>NaN</td>\n",
       "      <td>NaN</td>\n",
       "    </tr>\n",
       "  </tbody>\n",
       "</table>\n",
       "</div>"
      ],
      "text/plain": [
       "   도로명   일일 교통량  사고 발생 횟수\n",
       "0   A길  10000.0       2.0\n",
       "1  B대로   7500.0       3.0\n",
       "2  C거리      NaN       NaN\n",
       "3  D도로  12000.0       0.0\n",
       "4   E길      NaN       NaN\n",
       "5  F대로   7500.0       NaN\n",
       "6   G길      NaN       NaN"
      ]
     },
     "execution_count": 87,
     "metadata": {},
     "output_type": "execute_result"
    }
   ],
   "source": [
    "df.replace('N/A', np.nan, inplace=True)\n",
    "df"
   ]
  },
  {
   "cell_type": "markdown",
   "id": "40c17091-d13b-4525-891a-13781c0f9185",
   "metadata": {},
   "source": [
    "#### **[+] 어떤 행에서든 하나 이상의 값이 누락된 경우 그 행을 제거**"
   ]
  },
  {
   "cell_type": "code",
   "execution_count": 88,
   "id": "21ca9c7e-c812-460b-a6b3-a16ec7f306de",
   "metadata": {},
   "outputs": [
    {
     "data": {
      "text/html": [
       "<div>\n",
       "<style scoped>\n",
       "    .dataframe tbody tr th:only-of-type {\n",
       "        vertical-align: middle;\n",
       "    }\n",
       "\n",
       "    .dataframe tbody tr th {\n",
       "        vertical-align: top;\n",
       "    }\n",
       "\n",
       "    .dataframe thead th {\n",
       "        text-align: right;\n",
       "    }\n",
       "</style>\n",
       "<table border=\"1\" class=\"dataframe\">\n",
       "  <thead>\n",
       "    <tr style=\"text-align: right;\">\n",
       "      <th></th>\n",
       "      <th>도로명</th>\n",
       "      <th>일일 교통량</th>\n",
       "      <th>사고 발생 횟수</th>\n",
       "    </tr>\n",
       "  </thead>\n",
       "  <tbody>\n",
       "    <tr>\n",
       "      <th>0</th>\n",
       "      <td>A길</td>\n",
       "      <td>10000.0</td>\n",
       "      <td>2.0</td>\n",
       "    </tr>\n",
       "    <tr>\n",
       "      <th>1</th>\n",
       "      <td>B대로</td>\n",
       "      <td>7500.0</td>\n",
       "      <td>3.0</td>\n",
       "    </tr>\n",
       "    <tr>\n",
       "      <th>3</th>\n",
       "      <td>D도로</td>\n",
       "      <td>12000.0</td>\n",
       "      <td>0.0</td>\n",
       "    </tr>\n",
       "  </tbody>\n",
       "</table>\n",
       "</div>"
      ],
      "text/plain": [
       "   도로명   일일 교통량  사고 발생 횟수\n",
       "0   A길  10000.0       2.0\n",
       "1  B대로   7500.0       3.0\n",
       "3  D도로  12000.0       0.0"
      ]
     },
     "execution_count": 88,
     "metadata": {},
     "output_type": "execute_result"
    }
   ],
   "source": [
    "df_cleaned_1 = df.dropna()\n",
    "df_cleaned_1"
   ]
  },
  {
   "cell_type": "markdown",
   "id": "8c5aa949-7632-439f-b95c-4f5bda97d56a",
   "metadata": {},
   "source": [
    "#### **[+] 정상으로 측정된 값의 개수가 임계치 4개보다 작은 열을 삭제**"
   ]
  },
  {
   "cell_type": "code",
   "execution_count": 89,
   "id": "58fb12d9-b282-4ab8-9c58-61dddd3565af",
   "metadata": {},
   "outputs": [
    {
     "data": {
      "text/html": [
       "<div>\n",
       "<style scoped>\n",
       "    .dataframe tbody tr th:only-of-type {\n",
       "        vertical-align: middle;\n",
       "    }\n",
       "\n",
       "    .dataframe tbody tr th {\n",
       "        vertical-align: top;\n",
       "    }\n",
       "\n",
       "    .dataframe thead th {\n",
       "        text-align: right;\n",
       "    }\n",
       "</style>\n",
       "<table border=\"1\" class=\"dataframe\">\n",
       "  <thead>\n",
       "    <tr style=\"text-align: right;\">\n",
       "      <th></th>\n",
       "      <th>도로명</th>\n",
       "      <th>일일 교통량</th>\n",
       "    </tr>\n",
       "  </thead>\n",
       "  <tbody>\n",
       "    <tr>\n",
       "      <th>0</th>\n",
       "      <td>A길</td>\n",
       "      <td>10000.0</td>\n",
       "    </tr>\n",
       "    <tr>\n",
       "      <th>1</th>\n",
       "      <td>B대로</td>\n",
       "      <td>7500.0</td>\n",
       "    </tr>\n",
       "    <tr>\n",
       "      <th>2</th>\n",
       "      <td>C거리</td>\n",
       "      <td>NaN</td>\n",
       "    </tr>\n",
       "    <tr>\n",
       "      <th>3</th>\n",
       "      <td>D도로</td>\n",
       "      <td>12000.0</td>\n",
       "    </tr>\n",
       "    <tr>\n",
       "      <th>4</th>\n",
       "      <td>E길</td>\n",
       "      <td>NaN</td>\n",
       "    </tr>\n",
       "    <tr>\n",
       "      <th>5</th>\n",
       "      <td>F대로</td>\n",
       "      <td>7500.0</td>\n",
       "    </tr>\n",
       "    <tr>\n",
       "      <th>6</th>\n",
       "      <td>G길</td>\n",
       "      <td>NaN</td>\n",
       "    </tr>\n",
       "  </tbody>\n",
       "</table>\n",
       "</div>"
      ],
      "text/plain": [
       "   도로명   일일 교통량\n",
       "0   A길  10000.0\n",
       "1  B대로   7500.0\n",
       "2  C거리      NaN\n",
       "3  D도로  12000.0\n",
       "4   E길      NaN\n",
       "5  F대로   7500.0\n",
       "6   G길      NaN"
      ]
     },
     "execution_count": 89,
     "metadata": {},
     "output_type": "execute_result"
    }
   ],
   "source": [
    "df_cleaned_2 = df.dropna(thresh=4, axis=1)\n",
    "df_cleaned_2"
   ]
  },
  {
   "cell_type": "markdown",
   "id": "9b6a8027",
   "metadata": {},
   "source": [
    "### **문제: 사분위수 범위 기반 이상치 탐지**\n",
    "---\n",
    "다음의 지시문을 읽고 공기질 데이터(Air Quality)의 이산화탄소 변수에 대해 사분위수 범위 기반으로 이상치를 탐지 및 제거하는 코드를 완성하세요."
   ]
  },
  {
   "cell_type": "markdown",
   "id": "f7246a60",
   "metadata": {},
   "source": [
    "#### **데이터셋 불러오기**"
   ]
  },
  {
   "cell_type": "code",
   "execution_count": 90,
   "id": "882b7f15",
   "metadata": {},
   "outputs": [
    {
     "name": "stderr",
     "output_type": "stream",
     "text": [
      "C:\\Users\\3hm06\\AppData\\Local\\Temp\\ipykernel_29220\\2200888438.py:7: FutureWarning: The argument 'date_parser' is deprecated and will be removed in a future version. Please use 'date_format' instead, or read your data in as 'object' dtype and then call 'to_datetime'.\n",
      "  df = pd.read_csv(\n"
     ]
    },
    {
     "data": {
      "text/html": [
       "<div>\n",
       "<style scoped>\n",
       "    .dataframe tbody tr th:only-of-type {\n",
       "        vertical-align: middle;\n",
       "    }\n",
       "\n",
       "    .dataframe tbody tr th {\n",
       "        vertical-align: top;\n",
       "    }\n",
       "\n",
       "    .dataframe thead th {\n",
       "        text-align: right;\n",
       "    }\n",
       "</style>\n",
       "<table border=\"1\" class=\"dataframe\">\n",
       "  <thead>\n",
       "    <tr style=\"text-align: right;\">\n",
       "      <th></th>\n",
       "      <th>CO(GT)</th>\n",
       "      <th>PT08.S1(CO)</th>\n",
       "      <th>PT08.S2(NMHC)</th>\n",
       "      <th>NOx(GT)</th>\n",
       "      <th>PT08.S3(NOx)</th>\n",
       "      <th>NO2(GT)</th>\n",
       "      <th>PT08.S4(NO2)</th>\n",
       "      <th>PT08.S5(O3)</th>\n",
       "      <th>RH</th>\n",
       "      <th>AH</th>\n",
       "      <th>C6H6(GT)</th>\n",
       "    </tr>\n",
       "    <tr>\n",
       "      <th>Datetime</th>\n",
       "      <th></th>\n",
       "      <th></th>\n",
       "      <th></th>\n",
       "      <th></th>\n",
       "      <th></th>\n",
       "      <th></th>\n",
       "      <th></th>\n",
       "      <th></th>\n",
       "      <th></th>\n",
       "      <th></th>\n",
       "      <th></th>\n",
       "    </tr>\n",
       "  </thead>\n",
       "  <tbody>\n",
       "    <tr>\n",
       "      <th>2004-03-10 18:00:00</th>\n",
       "      <td>2.6</td>\n",
       "      <td>1360.0</td>\n",
       "      <td>1046.0</td>\n",
       "      <td>166.0</td>\n",
       "      <td>1056.0</td>\n",
       "      <td>113.0</td>\n",
       "      <td>1692.0</td>\n",
       "      <td>1268.0</td>\n",
       "      <td>48.9</td>\n",
       "      <td>0.7578</td>\n",
       "      <td>11.9</td>\n",
       "    </tr>\n",
       "    <tr>\n",
       "      <th>2004-03-10 19:00:00</th>\n",
       "      <td>2.0</td>\n",
       "      <td>1292.0</td>\n",
       "      <td>955.0</td>\n",
       "      <td>103.0</td>\n",
       "      <td>1174.0</td>\n",
       "      <td>92.0</td>\n",
       "      <td>1559.0</td>\n",
       "      <td>972.0</td>\n",
       "      <td>47.7</td>\n",
       "      <td>0.7255</td>\n",
       "      <td>9.4</td>\n",
       "    </tr>\n",
       "    <tr>\n",
       "      <th>2004-03-10 20:00:00</th>\n",
       "      <td>2.2</td>\n",
       "      <td>1402.0</td>\n",
       "      <td>939.0</td>\n",
       "      <td>131.0</td>\n",
       "      <td>1140.0</td>\n",
       "      <td>114.0</td>\n",
       "      <td>1555.0</td>\n",
       "      <td>1074.0</td>\n",
       "      <td>54.0</td>\n",
       "      <td>0.7502</td>\n",
       "      <td>9.0</td>\n",
       "    </tr>\n",
       "    <tr>\n",
       "      <th>2004-03-10 21:00:00</th>\n",
       "      <td>2.2</td>\n",
       "      <td>1376.0</td>\n",
       "      <td>948.0</td>\n",
       "      <td>172.0</td>\n",
       "      <td>1092.0</td>\n",
       "      <td>122.0</td>\n",
       "      <td>1584.0</td>\n",
       "      <td>1203.0</td>\n",
       "      <td>60.0</td>\n",
       "      <td>0.7867</td>\n",
       "      <td>9.2</td>\n",
       "    </tr>\n",
       "    <tr>\n",
       "      <th>2004-03-10 22:00:00</th>\n",
       "      <td>1.6</td>\n",
       "      <td>1272.0</td>\n",
       "      <td>836.0</td>\n",
       "      <td>131.0</td>\n",
       "      <td>1205.0</td>\n",
       "      <td>116.0</td>\n",
       "      <td>1490.0</td>\n",
       "      <td>1110.0</td>\n",
       "      <td>59.6</td>\n",
       "      <td>0.7888</td>\n",
       "      <td>6.5</td>\n",
       "    </tr>\n",
       "  </tbody>\n",
       "</table>\n",
       "</div>"
      ],
      "text/plain": [
       "                     CO(GT)  PT08.S1(CO)  PT08.S2(NMHC)  NOx(GT)  \\\n",
       "Datetime                                                           \n",
       "2004-03-10 18:00:00     2.6       1360.0         1046.0    166.0   \n",
       "2004-03-10 19:00:00     2.0       1292.0          955.0    103.0   \n",
       "2004-03-10 20:00:00     2.2       1402.0          939.0    131.0   \n",
       "2004-03-10 21:00:00     2.2       1376.0          948.0    172.0   \n",
       "2004-03-10 22:00:00     1.6       1272.0          836.0    131.0   \n",
       "\n",
       "                     PT08.S3(NOx)  NO2(GT)  PT08.S4(NO2)  PT08.S5(O3)    RH  \\\n",
       "Datetime                                                                      \n",
       "2004-03-10 18:00:00        1056.0    113.0        1692.0       1268.0  48.9   \n",
       "2004-03-10 19:00:00        1174.0     92.0        1559.0        972.0  47.7   \n",
       "2004-03-10 20:00:00        1140.0    114.0        1555.0       1074.0  54.0   \n",
       "2004-03-10 21:00:00        1092.0    122.0        1584.0       1203.0  60.0   \n",
       "2004-03-10 22:00:00        1205.0    116.0        1490.0       1110.0  59.6   \n",
       "\n",
       "                         AH  C6H6(GT)  \n",
       "Datetime                               \n",
       "2004-03-10 18:00:00  0.7578      11.9  \n",
       "2004-03-10 19:00:00  0.7255       9.4  \n",
       "2004-03-10 20:00:00  0.7502       9.0  \n",
       "2004-03-10 21:00:00  0.7867       9.2  \n",
       "2004-03-10 22:00:00  0.7888       6.5  "
      ]
     },
     "execution_count": 90,
     "metadata": {},
     "output_type": "execute_result"
    }
   ],
   "source": [
    "def parser(x):\n",
    "    return datetime.strptime(x, '%Y-%m-%d %H:%M:%S')\n",
    "\n",
    "path = './data/'\n",
    "file = 'AirQualityUCI_refined.csv'\n",
    "\n",
    "df = pd.read_csv(\n",
    "    path + file,\n",
    "    index_col=[0],\n",
    "    parse_dates=[0],\n",
    "    date_parser=parser\n",
    ")\n",
    "\n",
    "df.head()"
   ]
  },
  {
   "cell_type": "markdown",
   "id": "a2ab6e8d",
   "metadata": {},
   "source": [
    "#### **[+] 일산화탄소 변수 복사본 생성**\n",
    "+ 변수 명: CO(GT)"
   ]
  },
  {
   "cell_type": "code",
   "execution_count": 91,
   "id": "b39fbffb",
   "metadata": {},
   "outputs": [],
   "source": [
    "co = df['CO(GT)'].copy()\n"
   ]
  },
  {
   "cell_type": "markdown",
   "id": "aaa2fbe9",
   "metadata": {},
   "source": [
    "#### **[+] 결측 데이터 처리: 선형 보간**"
   ]
  },
  {
   "cell_type": "code",
   "execution_count": 92,
   "id": "141cc990",
   "metadata": {},
   "outputs": [],
   "source": [
    "co.interpolate(inplace=True)"
   ]
  },
  {
   "cell_type": "markdown",
   "id": "98976a89",
   "metadata": {},
   "source": [
    "#### **[+] Q1, Q3 구하기**"
   ]
  },
  {
   "cell_type": "code",
   "execution_count": 93,
   "id": "73a4e412",
   "metadata": {},
   "outputs": [
    {
     "name": "stdout",
     "output_type": "stream",
     "text": [
      "1.1 2.9\n"
     ]
    }
   ],
   "source": [
    "q1 = co.quantile(0.25)\n",
    "q3 = co.quantile(0.75)\n",
    "print(q1, q3)"
   ]
  },
  {
   "cell_type": "markdown",
   "id": "9505fc50",
   "metadata": {},
   "source": [
    "#### **[+] IQR, 상한(upper fence), 하한(lower fence) 구하기**\n",
    "사분위수 범위와 이상치의 경계를 결정하는 상한과 하한은 다음과 같다.\n",
    "+ 사분위수(Interquartile Range, IQR):\n",
    "\n",
    "    $IQR=Q3-Q1$\n",
    "\n",
    "+ 상한(Upper Fence, UF):\n",
    "\n",
    "    $UF=Q3+1.5IQR$\n",
    "\n",
    "+ 하한(Lower Fence, LF):\n",
    "\n",
    "    $LF=Q1-1.5IQR$"
   ]
  },
  {
   "cell_type": "code",
   "execution_count": 94,
   "id": "bfb08e9d",
   "metadata": {},
   "outputs": [
    {
     "name": "stdout",
     "output_type": "stream",
     "text": [
      "1.7999999999999998 5.6 -1.5999999999999996\n"
     ]
    }
   ],
   "source": [
    "iqr = q3-q1\n",
    "upper_fence = q3 + 1.5*iqr\n",
    "lower_fence = q1 - 1.5*iqr\n",
    "print(iqr, upper_fence, lower_fence)"
   ]
  },
  {
   "cell_type": "markdown",
   "id": "f914cf97",
   "metadata": {},
   "source": [
    "#### **[+] 이상치 선택하기**"
   ]
  },
  {
   "cell_type": "code",
   "execution_count": 95,
   "id": "372b8516",
   "metadata": {},
   "outputs": [
    {
     "data": {
      "text/plain": [
       "Datetime\n",
       "2004-03-11 19:00:00    6.9\n",
       "2004-03-11 20:00:00    6.1\n",
       "2004-03-12 20:00:00    6.6\n",
       "2004-03-14 20:00:00    5.9\n",
       "2004-03-15 09:00:00    8.1\n",
       "                      ... \n",
       "2005-03-23 19:00:00    6.2\n",
       "2005-03-23 20:00:00    7.2\n",
       "2005-03-24 19:00:00    5.9\n",
       "2005-03-24 20:00:00    7.5\n",
       "2005-03-25 19:00:00    5.7\n",
       "Name: CO(GT), Length: 224, dtype: float64"
      ]
     },
     "execution_count": 95,
     "metadata": {},
     "output_type": "execute_result"
    }
   ],
   "source": [
    "outliers = co.loc[(co > upper_fence) | (co < 0)]\n",
    "outliers"
   ]
  },
  {
   "cell_type": "markdown",
   "id": "7b67594e",
   "metadata": {},
   "source": [
    "#### **[+] 이상치 여부 마스킹**"
   ]
  },
  {
   "cell_type": "code",
   "execution_count": 96,
   "id": "c0b487eb",
   "metadata": {},
   "outputs": [
    {
     "data": {
      "text/plain": [
       "array([False, False, False, False, False, False, False, False, False,\n",
       "       False, False, False, False, False, False, False, False, False,\n",
       "       False, False, False, False, False, False, False,  True,  True,\n",
       "       False, False, False, False, False, False, False, False, False,\n",
       "       False, False, False, False, False, False, False, False, False,\n",
       "       False, False, False, False, False])"
      ]
     },
     "execution_count": 96,
     "metadata": {},
     "output_type": "execute_result"
    }
   ],
   "source": [
    "mask = co.index.isin(outliers.index)\n",
    "mask[:50]"
   ]
  },
  {
   "cell_type": "markdown",
   "id": "c8cd0473",
   "metadata": {},
   "source": [
    "#### **정상 데이터 / 이상치 시각화**"
   ]
  },
  {
   "cell_type": "code",
   "execution_count": 97,
   "id": "bc70c7e5",
   "metadata": {},
   "outputs": [
    {
     "data": {
      "text/plain": [
       "<matplotlib.legend.Legend at 0x1bb28034e30>"
      ]
     },
     "execution_count": 97,
     "metadata": {},
     "output_type": "execute_result"
    },
    {
     "data": {
      "image/png": "[encoded data removed]",
      "text/plain": [
       "<Figure size 640x480 with 1 Axes>"
      ]
     },
     "metadata": {},
     "output_type": "display_data"
    }
   ],
   "source": [
    "plt.plot(co[~mask], label='normal', color='blue',\n",
    "    marker='o', markersize=3, linestyle='None')\n",
    "plt.plot(outliers, label='outliers', color='red',\n",
    "    marker='x', markersize=3, linestyle='None')\n",
    "plt.legend(loc='best')"
   ]
  },
  {
   "cell_type": "markdown",
   "id": "abc9b403",
   "metadata": {},
   "source": [
    "#### **[+] 이상치 제거**\n",
    "모든 이상치들을 ```np.nan``` 으로 대체"
   ]
  },
  {
   "cell_type": "code",
   "execution_count": 98,
   "id": "060e8a00",
   "metadata": {},
   "outputs": [
    {
     "data": {
      "text/plain": [
       "Datetime\n",
       "2004-03-11 19:00:00   NaN\n",
       "2004-03-11 20:00:00   NaN\n",
       "2004-03-12 20:00:00   NaN\n",
       "2004-03-14 20:00:00   NaN\n",
       "2004-03-15 09:00:00   NaN\n",
       "                       ..\n",
       "2005-03-23 19:00:00   NaN\n",
       "2005-03-23 20:00:00   NaN\n",
       "2005-03-24 19:00:00   NaN\n",
       "2005-03-24 20:00:00   NaN\n",
       "2005-03-25 19:00:00   NaN\n",
       "Name: CO(GT), Length: 224, dtype: float64"
      ]
     },
     "execution_count": 98,
     "metadata": {},
     "output_type": "execute_result"
    }
   ],
   "source": [
    "co_refined = co.copy()\n",
    "co_refined[mask] = np.nan\n",
    "co_refined[mask]"
   ]
  },
  {
   "cell_type": "markdown",
   "id": "ccae9279",
   "metadata": {},
   "source": [
    "#### **[+] 제거된 이상치에 대한 대치: 선형보간**\n",
    "```np.nan``` 들을 선형보간을 통해 생성된 값으로 대체하기"
   ]
  },
  {
   "cell_type": "code",
   "execution_count": 99,
   "id": "6e724c4c",
   "metadata": {},
   "outputs": [
    {
     "data": {
      "text/plain": [
       "<Axes: xlabel='Datetime'>"
      ]
     },
     "execution_count": 99,
     "metadata": {},
     "output_type": "execute_result"
    },
    {
     "data": {
      "image/png": "[encoded data removed]",
      "text/plain": [
       "<Figure size 640x480 with 1 Axes>"
      ]
     },
     "metadata": {},
     "output_type": "display_data"
    }
   ],
   "source": [
    "co_refined.interpolate(inplace=True)\n",
    "co_refined.plot()"
   ]
  },
  {
   "cell_type": "markdown",
   "id": "8a3c6da3",
   "metadata": {},
   "source": [
    "### **문제: 최소-최대 정규화**\n",
    "---\n",
    "다음의 지시문에 따라 공기질 데이터셋의 두 변수에 대해 최소-최대 정규화를 수행하는 코드를 완성하세요.\n",
    "+ 변수 1: 일산화탄소(```CO(GT)```)\n",
    "+ 변수 2: 비메탄 탄화수소(```PT08.S2(NMHC)```)"
   ]
  },
  {
   "cell_type": "markdown",
   "id": "01629b68",
   "metadata": {},
   "source": [
    "#### **데이터셋 불러오기**"
   ]
  },
  {
   "cell_type": "code",
   "execution_count": 100,
   "id": "b14d3026",
   "metadata": {},
   "outputs": [
    {
     "name": "stderr",
     "output_type": "stream",
     "text": [
      "C:\\Users\\3hm06\\AppData\\Local\\Temp\\ipykernel_29220\\2200888438.py:7: FutureWarning: The argument 'date_parser' is deprecated and will be removed in a future version. Please use 'date_format' instead, or read your data in as 'object' dtype and then call 'to_datetime'.\n",
      "  df = pd.read_csv(\n"
     ]
    },
    {
     "data": {
      "text/html": [
       "<div>\n",
       "<style scoped>\n",
       "    .dataframe tbody tr th:only-of-type {\n",
       "        vertical-align: middle;\n",
       "    }\n",
       "\n",
       "    .dataframe tbody tr th {\n",
       "        vertical-align: top;\n",
       "    }\n",
       "\n",
       "    .dataframe thead th {\n",
       "        text-align: right;\n",
       "    }\n",
       "</style>\n",
       "<table border=\"1\" class=\"dataframe\">\n",
       "  <thead>\n",
       "    <tr style=\"text-align: right;\">\n",
       "      <th></th>\n",
       "      <th>CO(GT)</th>\n",
       "      <th>PT08.S1(CO)</th>\n",
       "      <th>PT08.S2(NMHC)</th>\n",
       "      <th>NOx(GT)</th>\n",
       "      <th>PT08.S3(NOx)</th>\n",
       "      <th>NO2(GT)</th>\n",
       "      <th>PT08.S4(NO2)</th>\n",
       "      <th>PT08.S5(O3)</th>\n",
       "      <th>RH</th>\n",
       "      <th>AH</th>\n",
       "      <th>C6H6(GT)</th>\n",
       "    </tr>\n",
       "    <tr>\n",
       "      <th>Datetime</th>\n",
       "      <th></th>\n",
       "      <th></th>\n",
       "      <th></th>\n",
       "      <th></th>\n",
       "      <th></th>\n",
       "      <th></th>\n",
       "      <th></th>\n",
       "      <th></th>\n",
       "      <th></th>\n",
       "      <th></th>\n",
       "      <th></th>\n",
       "    </tr>\n",
       "  </thead>\n",
       "  <tbody>\n",
       "    <tr>\n",
       "      <th>2004-03-10 18:00:00</th>\n",
       "      <td>2.6</td>\n",
       "      <td>1360.0</td>\n",
       "      <td>1046.0</td>\n",
       "      <td>166.0</td>\n",
       "      <td>1056.0</td>\n",
       "      <td>113.0</td>\n",
       "      <td>1692.0</td>\n",
       "      <td>1268.0</td>\n",
       "      <td>48.9</td>\n",
       "      <td>0.7578</td>\n",
       "      <td>11.9</td>\n",
       "    </tr>\n",
       "    <tr>\n",
       "      <th>2004-03-10 19:00:00</th>\n",
       "      <td>2.0</td>\n",
       "      <td>1292.0</td>\n",
       "      <td>955.0</td>\n",
       "      <td>103.0</td>\n",
       "      <td>1174.0</td>\n",
       "      <td>92.0</td>\n",
       "      <td>1559.0</td>\n",
       "      <td>972.0</td>\n",
       "      <td>47.7</td>\n",
       "      <td>0.7255</td>\n",
       "      <td>9.4</td>\n",
       "    </tr>\n",
       "    <tr>\n",
       "      <th>2004-03-10 20:00:00</th>\n",
       "      <td>2.2</td>\n",
       "      <td>1402.0</td>\n",
       "      <td>939.0</td>\n",
       "      <td>131.0</td>\n",
       "      <td>1140.0</td>\n",
       "      <td>114.0</td>\n",
       "      <td>1555.0</td>\n",
       "      <td>1074.0</td>\n",
       "      <td>54.0</td>\n",
       "      <td>0.7502</td>\n",
       "      <td>9.0</td>\n",
       "    </tr>\n",
       "    <tr>\n",
       "      <th>2004-03-10 21:00:00</th>\n",
       "      <td>2.2</td>\n",
       "      <td>1376.0</td>\n",
       "      <td>948.0</td>\n",
       "      <td>172.0</td>\n",
       "      <td>1092.0</td>\n",
       "      <td>122.0</td>\n",
       "      <td>1584.0</td>\n",
       "      <td>1203.0</td>\n",
       "      <td>60.0</td>\n",
       "      <td>0.7867</td>\n",
       "      <td>9.2</td>\n",
       "    </tr>\n",
       "    <tr>\n",
       "      <th>2004-03-10 22:00:00</th>\n",
       "      <td>1.6</td>\n",
       "      <td>1272.0</td>\n",
       "      <td>836.0</td>\n",
       "      <td>131.0</td>\n",
       "      <td>1205.0</td>\n",
       "      <td>116.0</td>\n",
       "      <td>1490.0</td>\n",
       "      <td>1110.0</td>\n",
       "      <td>59.6</td>\n",
       "      <td>0.7888</td>\n",
       "      <td>6.5</td>\n",
       "    </tr>\n",
       "  </tbody>\n",
       "</table>\n",
       "</div>"
      ],
      "text/plain": [
       "                     CO(GT)  PT08.S1(CO)  PT08.S2(NMHC)  NOx(GT)  \\\n",
       "Datetime                                                           \n",
       "2004-03-10 18:00:00     2.6       1360.0         1046.0    166.0   \n",
       "2004-03-10 19:00:00     2.0       1292.0          955.0    103.0   \n",
       "2004-03-10 20:00:00     2.2       1402.0          939.0    131.0   \n",
       "2004-03-10 21:00:00     2.2       1376.0          948.0    172.0   \n",
       "2004-03-10 22:00:00     1.6       1272.0          836.0    131.0   \n",
       "\n",
       "                     PT08.S3(NOx)  NO2(GT)  PT08.S4(NO2)  PT08.S5(O3)    RH  \\\n",
       "Datetime                                                                      \n",
       "2004-03-10 18:00:00        1056.0    113.0        1692.0       1268.0  48.9   \n",
       "2004-03-10 19:00:00        1174.0     92.0        1559.0        972.0  47.7   \n",
       "2004-03-10 20:00:00        1140.0    114.0        1555.0       1074.0  54.0   \n",
       "2004-03-10 21:00:00        1092.0    122.0        1584.0       1203.0  60.0   \n",
       "2004-03-10 22:00:00        1205.0    116.0        1490.0       1110.0  59.6   \n",
       "\n",
       "                         AH  C6H6(GT)  \n",
       "Datetime                               \n",
       "2004-03-10 18:00:00  0.7578      11.9  \n",
       "2004-03-10 19:00:00  0.7255       9.4  \n",
       "2004-03-10 20:00:00  0.7502       9.0  \n",
       "2004-03-10 21:00:00  0.7867       9.2  \n",
       "2004-03-10 22:00:00  0.7888       6.5  "
      ]
     },
     "execution_count": 100,
     "metadata": {},
     "output_type": "execute_result"
    }
   ],
   "source": [
    "def parser(x):\n",
    "    return datetime.strptime(x, '%Y-%m-%d %H:%M:%S')\n",
    "\n",
    "path = './data/'\n",
    "file = 'AirQualityUCI_refined.csv'\n",
    "\n",
    "df = pd.read_csv(\n",
    "    path + file,\n",
    "    index_col=[0],\n",
    "    parse_dates=[0],\n",
    "    date_parser=parser\n",
    ")\n",
    "\n",
    "df.head()"
   ]
  },
  {
   "cell_type": "markdown",
   "id": "77083f79",
   "metadata": {},
   "source": [
    "#### **[+] 일산화탄소 변수 복사본 생성**"
   ]
  },
  {
   "cell_type": "code",
   "execution_count": 101,
   "id": "80010fd3",
   "metadata": {},
   "outputs": [],
   "source": [
    "co = df['CO(GT)'].copy()"
   ]
  },
  {
   "cell_type": "markdown",
   "id": "e7507178",
   "metadata": {},
   "source": [
    "#### **[+] 일산화탄소 변수 결측치 처리: 선형 보간**"
   ]
  },
  {
   "cell_type": "code",
   "execution_count": 102,
   "id": "2faa6e61",
   "metadata": {},
   "outputs": [],
   "source": [
    "co.interpolate(inplace=True)"
   ]
  },
  {
   "cell_type": "markdown",
   "id": "4654a74c",
   "metadata": {},
   "source": [
    "#### **[+] 비메탄 탄화수소 변수 복사본 생성**"
   ]
  },
  {
   "cell_type": "code",
   "execution_count": 103,
   "id": "e241796d",
   "metadata": {},
   "outputs": [],
   "source": [
    "nmhc = df['PT08.S2(NMHC)'].copy()"
   ]
  },
  {
   "cell_type": "markdown",
   "id": "4aa0931d",
   "metadata": {},
   "source": [
    "#### **[+] 비메탄 탄화수소 변수 결측치 처리: 선형 보간**"
   ]
  },
  {
   "cell_type": "code",
   "execution_count": 104,
   "id": "aa0c09d2",
   "metadata": {},
   "outputs": [],
   "source": [
    "nmhc.interpolate(inplace=True)"
   ]
  },
  {
   "cell_type": "markdown",
   "id": "23ef5a4a",
   "metadata": {},
   "source": [
    "#### **스케일이 서로 다른 두 변수 시각화**"
   ]
  },
  {
   "cell_type": "code",
   "execution_count": 105,
   "id": "d66ece39",
   "metadata": {},
   "outputs": [
    {
     "data": {
      "text/plain": [
       "<matplotlib.legend.Legend at 0x1bb2c258620>"
      ]
     },
     "execution_count": 105,
     "metadata": {},
     "output_type": "execute_result"
    },
    {
     "data": {
      "image/png": "[encoded data removed]",
      "text/plain": [
       "<Figure size 640x480 with 1 Axes>"
      ]
     },
     "metadata": {},
     "output_type": "display_data"
    }
   ],
   "source": [
    "plt.plot(co, label='Carbon monooxide')\n",
    "plt.plot(nmhc, label='Non-methane hydrocarbon')\n",
    "plt.ylabel('Concentration')\n",
    "plt.legend(loc='best')"
   ]
  },
  {
   "cell_type": "markdown",
   "id": "8e02cc68",
   "metadata": {},
   "source": [
    "#### **최소-최대 정규화(min-max normalization) 수식**\n",
    "\n",
    "$x_{norm} = \\frac{x-x_{min}}{x_{max}-x_{min}}$"
   ]
  },
  {
   "cell_type": "markdown",
   "id": "ee87183f",
   "metadata": {},
   "source": [
    "#### **[+] 일산화탄소 변수 정규화**\n",
    "정규화 결과 저장: df['CO_Norm']"
   ]
  },
  {
   "cell_type": "code",
   "execution_count": 106,
   "id": "52cc9607",
   "metadata": {},
   "outputs": [
    {
     "data": {
      "text/plain": [
       "Datetime\n",
       "2004-03-10 18:00:00    0.218487\n",
       "2004-03-10 19:00:00    0.168067\n",
       "2004-03-10 20:00:00    0.184874\n",
       "2004-03-10 21:00:00    0.184874\n",
       "2004-03-10 22:00:00    0.134454\n",
       "                         ...   \n",
       "2005-04-04 10:00:00    0.260504\n",
       "2005-04-04 11:00:00    0.201681\n",
       "2005-04-04 12:00:00    0.201681\n",
       "2005-04-04 13:00:00    0.176471\n",
       "2005-04-04 14:00:00    0.184874\n",
       "Name: CO_Norm, Length: 9357, dtype: float64"
      ]
     },
     "execution_count": 106,
     "metadata": {},
     "output_type": "execute_result"
    }
   ],
   "source": [
    "co_max = co.max()\n",
    "co_min = co.min()\n",
    "df['CO_Norm'] = (co - co_min) / (co_max - co_min)\n",
    "df['CO_Norm']"
   ]
  },
  {
   "cell_type": "markdown",
   "id": "840a585f",
   "metadata": {},
   "source": [
    "#### **[+] 비메탄탄화수소 변수 정규화**\n",
    "정규화 결과 저장: df['NMHC_Norm']"
   ]
  },
  {
   "cell_type": "code",
   "execution_count": 107,
   "id": "3942ea0e",
   "metadata": {},
   "outputs": [
    {
     "data": {
      "text/plain": [
       "Datetime\n",
       "2004-03-10 18:00:00    0.362097\n",
       "2004-03-10 19:00:00    0.312398\n",
       "2004-03-10 20:00:00    0.303659\n",
       "2004-03-10 21:00:00    0.308575\n",
       "2004-03-10 22:00:00    0.247406\n",
       "                         ...   \n",
       "2005-04-04 10:00:00    0.392135\n",
       "2005-04-04 11:00:00    0.351720\n",
       "2005-04-04 12:00:00    0.371382\n",
       "2005-04-04 13:00:00    0.315674\n",
       "2005-04-04 14:00:00    0.362643\n",
       "Name: NMHC_Norm, Length: 9357, dtype: float64"
      ]
     },
     "execution_count": 107,
     "metadata": {},
     "output_type": "execute_result"
    }
   ],
   "source": [
    "nmhc_max = nmhc.max()\n",
    "nmhc_min = nmhc.min()\n",
    "df['NMHC_Norm'] = (nmhc - nmhc_min) / (nmhc_max - nmhc_min)\n",
    "df['NMHC_Norm']"
   ]
  },
  {
   "cell_type": "markdown",
   "id": "beaa363c",
   "metadata": {},
   "source": [
    "#### **정규화된 두 변수 시각화**"
   ]
  },
  {
   "cell_type": "code",
   "execution_count": 108,
   "id": "2f397cb3",
   "metadata": {},
   "outputs": [
    {
     "data": {
      "text/plain": [
       "<matplotlib.legend.Legend at 0x1bb2cf6f5c0>"
      ]
     },
     "execution_count": 108,
     "metadata": {},
     "output_type": "execute_result"
    },
    {
     "data": {
      "image/png": "[encoded data removed]",
      "text/plain": [
       "<Figure size 640x480 with 1 Axes>"
      ]
     },
     "metadata": {},
     "output_type": "display_data"
    }
   ],
   "source": [
    "plt.plot(df['CO_Norm'], label='Carbon monooxide')\n",
    "plt.plot(df['NMHC_Norm'], label='Non-methane hydrocarbon')\n",
    "plt.ylabel('Concentration')\n",
    "plt.legend(loc='best')"
   ]
  }
 ],
 "metadata": {
  "kernelspec": {
   "display_name": "env",
   "language": "python",
   "name": "python3"
  },
  "language_info": {
   "codemirror_mode": {
    "name": "ipython",
    "version": 3
   },
   "file_extension": ".py",
   "mimetype": "text/x-python",
   "name": "python",
   "nbconvert_exporter": "python",
   "pygments_lexer": "ipython3",
   "version": "3.12.9"
  }
 },
 "nbformat": 4,
 "nbformat_minor": 5
}
