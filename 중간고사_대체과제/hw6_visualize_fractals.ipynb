{
 "cells": [
  {
   "cell_type": "markdown",
   "id": "f157a712",
   "metadata": {},
   "source": [
    "### 과제 : 프랙털 시각화"
   ]
  },
  {
   "cell_type": "code",
   "execution_count": 3,
   "id": "45c43a67",
   "metadata": {},
   "outputs": [],
   "source": [
    "import numpy as np  \n",
    "import matplotlib.pyplot as plt  \n",
    "from mpl_toolkits.axes_grid1 import make_axes_locatable"
   ]
  },
  {
   "cell_type": "code",
   "execution_count": 4,
   "id": "c5d1b4f8",
   "metadata": {},
   "outputs": [
    {
     "data": {
      "text/plain": [
       "<contextlib.ExitStack at 0x1fef5493210>"
      ]
     },
     "execution_count": 4,
     "metadata": {},
     "output_type": "execute_result"
    }
   ],
   "source": [
    "%matplotlib qt5\n",
    "%config InlineBackend.figure_format = 'svg'\n",
    "\n",
    "plt.rcParams['figure.figsize'] = [12, 5]\n",
    "plt.rcParams['font.size'] = 13\n",
    "plt.ion()"
   ]
  },
  {
   "cell_type": "markdown",
   "id": "43ed6add",
   "metadata": {},
   "source": [
    "간단한 복소수 함수 살펴보기"
   ]
  },
  {
   "cell_type": "code",
   "execution_count": 5,
   "id": "0f2ddfe1",
   "metadata": {},
   "outputs": [
    {
     "data": {
      "text/plain": [
       "-1"
      ]
     },
     "execution_count": 5,
     "metadata": {},
     "output_type": "execute_result"
    }
   ],
   "source": [
    "def f(z):\n",
    "    return z**2 - 1\n",
    "f(0)"
   ]
  },
  {
   "cell_type": "code",
   "execution_count": 6,
   "id": "f6437f4f",
   "metadata": {},
   "outputs": [
    {
     "data": {
      "text/plain": [
       "array([15.  +0.j , -0.04-0.4j,  1.56+0.j ])"
      ]
     },
     "execution_count": 6,
     "metadata": {},
     "output_type": "execute_result"
    }
   ],
   "source": [
    "list = [4, 1-0.2j, 1.6]\n",
    "array = np.array(list)\n",
    "f(array)"
   ]
  },
  {
   "cell_type": "markdown",
   "id": "21d3383c",
   "metadata": {},
   "source": [
    "\n",
    "더 많은 복소수 집합에 대한 함수의 동작 확인하기"
   ]
  },
  {
   "cell_type": "code",
   "execution_count": 7,
   "id": "1d8af140",
   "metadata": {},
   "outputs": [],
   "source": [
    "x_values = np.linspace(-10, 10, 20)\n",
    "y_values = np.linspace(-10, 10, 20)\n",
    "\n",
    "x, y = np.meshgrid(x_values, y_values)"
   ]
  },
  {
   "cell_type": "code",
   "execution_count": 8,
   "id": "30a73a00",
   "metadata": {},
   "outputs": [],
   "source": [
    "mesh = x + y * 1j\n",
    "function_result = f(mesh)"
   ]
  },
  {
   "cell_type": "code",
   "execution_count": 9,
   "id": "b1b2c275",
   "metadata": {},
   "outputs": [],
   "source": [
    "output = np.abs(function_result)"
   ]
  },
  {
   "cell_type": "code",
   "execution_count": 11,
   "id": "1deab33a",
   "metadata": {},
   "outputs": [
    {
     "data": {
      "text/plain": [
       "Text(0.5, 0.92, 'One Iteration: $f(z) = z^2 - 1$')"
      ]
     },
     "execution_count": 11,
     "metadata": {},
     "output_type": "execute_result"
    }
   ],
   "source": [
    "\n",
    "fig = plt.figure()\n",
    "ax = plt.axes(projection='3d')\n",
    "\n",
    "ax.scatter(x, y, output, alpha=0.2)\n",
    "\n",
    "ax.set_xlabel('Real axis')      # 실수부\n",
    "ax.set_ylabel('Imaginary axis') # 허수부\n",
    "ax.set_zlabel('Absolute value') # 함수값의 절대값\n",
    "ax.set_title('One Iteration: $f(z) = z^2 - 1$')"
   ]
  },
  {
   "cell_type": "markdown",
   "id": "e47e2b01",
   "metadata": {},
   "source": [
    "![alt text](Figure_1.png)"
   ]
  },
  {
   "cell_type": "code",
   "execution_count": 12,
   "id": "359603bb",
   "metadata": {},
   "outputs": [
    {
     "data": {
      "text/plain": [
       "Text(0.5, 0.92, 'Two Iterations: $ f(z) = z^2 - 1$')"
      ]
     },
     "execution_count": 12,
     "metadata": {},
     "output_type": "execute_result"
    }
   ],
   "source": [
    "\n",
    "output = np.abs(f(f(mesh))) # 함수 두 번 반복\n",
    "\n",
    "ax = plt.axes(projection='3d')\n",
    "\n",
    "ax.scatter(x, y, output, alpha=0.2)\n",
    "\n",
    "ax.set_xlabel('Real axis')\n",
    "ax.set_ylabel('Imaginary axis')\n",
    "ax.set_zlabel('Absolute value')\n",
    "ax.set_title('Two Iterations: $ f(z) = z^2 - 1$')"
   ]
  },
  {
   "cell_type": "markdown",
   "id": "084c98ae",
   "metadata": {},
   "source": [
    "![alt text](Figure_2.png)"
   ]
  },
  {
   "cell_type": "markdown",
   "id": "a45cc921",
   "metadata": {},
   "source": [
    "\n",
    "유사한 복소수 집합에 대해 함수 반복 적용하기"
   ]
  },
  {
   "cell_type": "code",
   "execution_count": 13,
   "id": "bfe37518",
   "metadata": {},
   "outputs": [],
   "source": [
    "selected_values = np.array([0.4 + 0.4j, 0.41 + 0.4j, 0.4 + 0.41j])\n",
    "num_iter = 9\n",
    "\n",
    "outputs = np.zeros(\n",
    "    (num_iter+1, selected_values.shape[0]),  # 10X3 Zero 배열 생성\n",
    "    dtype=complex  # 데이터 타입: 복소수\n",
    ")\n",
    "outputs[0] = selected_values   # 함수 초기 조건\n",
    "\n",
    "for i in range(num_iter):\n",
    "    outputs[i+1] = f(outputs[i])  # 10번 함수 반복하는 동안 각 결과를 저장\n",
    "\n",
    "fig, axes = plt.subplots(1, selected_values.shape[0], figsize=(16, 6))\n",
    "axes[1].set_xlabel('Real axis')\n",
    "axes[0].set_ylabel('Imaginary axis')\n",
    "\n",
    "for ax, data in zip(axes, outputs.T):\n",
    "    cycle = ax.scatter(\n",
    "        data.real,  # 실수부\n",
    "        data.imag,  # 허수부\n",
    "        c=range(data.shape[0]), \n",
    "        alpha=0.6\n",
    "    )\n",
    "    ax.set_title(f'Mapping of iterations on {data[0]}')\n",
    "\n",
    "fig.colorbar(cycle, ax=axes, location='bottom', label='Iteration');"
   ]
  },
  {
   "cell_type": "markdown",
   "id": "2952ca1a",
   "metadata": {},
   "source": [
    "![alt text](Figure_3.png)"
   ]
  },
  {
   "cell_type": "markdown",
   "id": "be2c4b65",
   "metadata": {},
   "source": [
    "\n",
    "발산 전까지 함수 반복 적용 및 시각화"
   ]
  },
  {
   "cell_type": "code",
   "execution_count": 14,
   "id": "137df9d2",
   "metadata": {},
   "outputs": [],
   "source": [
    "def divergence_rate(mesh, num_iter=10, radius=2):\n",
    "\n",
    "    z = mesh.copy()\n",
    "    # 값 별 반복 횟수를 저장\n",
    "    diverge_len = np.zeros(mesh.shape)\n",
    "\n",
    "    # 발산되지 않은 값들에 대해 함수를 반복 적용\n",
    "    for i in range(num_iter):\n",
    "        \n",
    "        # [+] 1. Boolean 배열  마스크 생성\n",
    "        conv_mask = np.abs(z) < radius\n",
    "\n",
    "        # [+] 2. 해당 값들에 대한 diverge_len 값 증가\n",
    "        diverge_len[conv_mask] += 1\n",
    "\n",
    "        # [+] 3. 해당 값들에 대해 함수 적용\n",
    "        z[conv_mask] = f(z[conv_mask])\n",
    "\n",
    "    return diverge_len"
   ]
  },
  {
   "cell_type": "code",
   "execution_count": 15,
   "id": "cdd0c942",
   "metadata": {},
   "outputs": [],
   "source": [
    "\n",
    "x, y = np.meshgrid(np.linspace(-2, 2, 400), np.linspace(-2, 2, 400))\n",
    "mesh = x + (1j * y)\n",
    "\n",
    "output = divergence_rate(mesh)\n",
    "\n",
    "fig = plt.figure(figsize=(5, 5))\n",
    "ax = plt.axes()\n",
    "\n",
    "ax.set_title('$f(z) = z^2-1$')\n",
    "ax.set_xlabel('Real axis')\n",
    "ax.set_ylabel('Imaginary axis')\n",
    "\n",
    "im = ax.imshow(output, extent=[-2, 2, -2, 2])\n",
    "divider = make_axes_locatable(ax)\n",
    "cax = divider.append_axes('right', size='5%', pad=0.1)\n",
    "plt.colorbar(im, cax=cax, label='Number of iterations');"
   ]
  },
  {
   "cell_type": "markdown",
   "id": "2ecbcbbd",
   "metadata": {},
   "source": [
    "![alt text](Figure_4.png)"
   ]
  }
 ],
 "metadata": {
  "kernelspec": {
   "display_name": "base",
   "language": "python",
   "name": "python3"
  },
  "language_info": {
   "codemirror_mode": {
    "name": "ipython",
    "version": 3
   },
   "file_extension": ".py",
   "mimetype": "text/x-python",
   "name": "python",
   "nbconvert_exporter": "python",
   "pygments_lexer": "ipython3",
   "version": "3.11.7"
  }
 },
 "nbformat": 4,
 "nbformat_minor": 5
}
