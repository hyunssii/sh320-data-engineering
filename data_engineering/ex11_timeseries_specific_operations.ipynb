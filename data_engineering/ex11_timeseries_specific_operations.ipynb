{
 "cells": [
  {
   "cell_type": "markdown",
   "id": "409439e8-8808-45ee-b006-7ebc51a8081a",
   "metadata": {},
   "source": [
    "## <strong> 13. 시계열 전용 연산"
   ]
  },
  {
   "cell_type": "markdown",
   "id": "4e54456e-2706-4dd2-9355-f59dc8f74824",
   "metadata": {},
   "source": [
    "필요한 라이브러리: ```yfinance```, ```pandas_datareader```"
   ]
  },
  {
   "cell_type": "code",
   "execution_count": 5,
   "id": "a25d88aa-8c6c-49be-a829-0b5f7a439c4d",
   "metadata": {},
   "outputs": [
    {
     "name": "stdout",
     "output_type": "stream",
     "text": [
      "Requirement already satisfied: yfinance in c:\\users\\3hm06\\anaconda3\\lib\\site-packages (0.2.48)\n",
      "Collecting yfinance\n",
      "  Downloading yfinance-0.2.60-py2.py3-none-any.whl.metadata (5.8 kB)\n",
      "Requirement already satisfied: pandas>=1.3.0 in c:\\users\\3hm06\\anaconda3\\lib\\site-packages (from yfinance) (2.1.4)\n",
      "Requirement already satisfied: numpy>=1.16.5 in c:\\users\\3hm06\\anaconda3\\lib\\site-packages (from yfinance) (1.26.4)\n",
      "Requirement already satisfied: requests>=2.31 in c:\\users\\3hm06\\anaconda3\\lib\\site-packages (from yfinance) (2.31.0)\n",
      "Requirement already satisfied: multitasking>=0.0.7 in c:\\users\\3hm06\\anaconda3\\lib\\site-packages (from yfinance) (0.0.11)\n",
      "Requirement already satisfied: platformdirs>=2.0.0 in c:\\users\\3hm06\\anaconda3\\lib\\site-packages (from yfinance) (3.10.0)\n",
      "Requirement already satisfied: pytz>=2022.5 in c:\\users\\3hm06\\anaconda3\\lib\\site-packages (from yfinance) (2023.3.post1)\n",
      "Requirement already satisfied: frozendict>=2.3.4 in c:\\users\\3hm06\\anaconda3\\lib\\site-packages (from yfinance) (2.4.2)\n",
      "Requirement already satisfied: peewee>=3.16.2 in c:\\users\\3hm06\\anaconda3\\lib\\site-packages (from yfinance) (3.17.7)\n",
      "Requirement already satisfied: beautifulsoup4>=4.11.1 in c:\\users\\3hm06\\anaconda3\\lib\\site-packages (from yfinance) (4.12.2)\n",
      "Collecting curl_cffi>=0.7 (from yfinance)\n",
      "  Downloading curl_cffi-0.10.0-cp39-abi3-win_amd64.whl.metadata (12 kB)\n",
      "Requirement already satisfied: protobuf>=3.19.0 in c:\\users\\3hm06\\anaconda3\\lib\\site-packages (from yfinance) (3.20.3)\n",
      "Collecting websockets>=13.0 (from yfinance)\n",
      "  Downloading websockets-15.0.1-cp311-cp311-win_amd64.whl.metadata (7.0 kB)\n",
      "Requirement already satisfied: soupsieve>1.2 in c:\\users\\3hm06\\anaconda3\\lib\\site-packages (from beautifulsoup4>=4.11.1->yfinance) (2.5)\n",
      "Requirement already satisfied: cffi>=1.12.0 in c:\\users\\3hm06\\anaconda3\\lib\\site-packages (from curl_cffi>=0.7->yfinance) (1.16.0)\n",
      "Requirement already satisfied: certifi>=2024.2.2 in c:\\users\\3hm06\\anaconda3\\lib\\site-packages (from curl_cffi>=0.7->yfinance) (2024.8.30)\n",
      "Requirement already satisfied: python-dateutil>=2.8.2 in c:\\users\\3hm06\\anaconda3\\lib\\site-packages (from pandas>=1.3.0->yfinance) (2.8.2)\n",
      "Requirement already satisfied: tzdata>=2022.1 in c:\\users\\3hm06\\anaconda3\\lib\\site-packages (from pandas>=1.3.0->yfinance) (2023.3)\n",
      "Requirement already satisfied: charset-normalizer<4,>=2 in c:\\users\\3hm06\\anaconda3\\lib\\site-packages (from requests>=2.31->yfinance) (2.0.4)\n",
      "Requirement already satisfied: idna<4,>=2.5 in c:\\users\\3hm06\\anaconda3\\lib\\site-packages (from requests>=2.31->yfinance) (3.4)\n",
      "Requirement already satisfied: urllib3<3,>=1.21.1 in c:\\users\\3hm06\\anaconda3\\lib\\site-packages (from requests>=2.31->yfinance) (2.0.7)\n",
      "Requirement already satisfied: pycparser in c:\\users\\3hm06\\anaconda3\\lib\\site-packages (from cffi>=1.12.0->curl_cffi>=0.7->yfinance) (2.21)\n",
      "Requirement already satisfied: six>=1.5 in c:\\users\\3hm06\\anaconda3\\lib\\site-packages (from python-dateutil>=2.8.2->pandas>=1.3.0->yfinance) (1.16.0)\n",
      "Downloading yfinance-0.2.60-py2.py3-none-any.whl (117 kB)\n",
      "   ---------------------------------------- 0.0/117.9 kB ? eta -:--:--\n",
      "   ---------- ----------------------------- 30.7/117.9 kB 1.4 MB/s eta 0:00:01\n",
      "   -------------------------------------- - 112.6/117.9 kB 2.2 MB/s eta 0:00:01\n",
      "   ---------------------------------------- 117.9/117.9 kB 1.4 MB/s eta 0:00:00\n",
      "Downloading curl_cffi-0.10.0-cp39-abi3-win_amd64.whl (1.4 MB)\n",
      "   ---------------------------------------- 0.0/1.4 MB ? eta -:--:--\n",
      "   ----- ---------------------------------- 0.2/1.4 MB 3.9 MB/s eta 0:00:01\n",
      "   ----------- ---------------------------- 0.4/1.4 MB 4.1 MB/s eta 0:00:01\n",
      "   ------------------ --------------------- 0.6/1.4 MB 4.4 MB/s eta 0:00:01\n",
      "   ----------------------- ---------------- 0.8/1.4 MB 4.6 MB/s eta 0:00:01\n",
      "   ------------------------- -------------- 0.9/1.4 MB 3.6 MB/s eta 0:00:01\n",
      "   ------------------------------- -------- 1.1/1.4 MB 3.8 MB/s eta 0:00:01\n",
      "   ---------------------------------------  1.4/1.4 MB 4.1 MB/s eta 0:00:01\n",
      "   ---------------------------------------- 1.4/1.4 MB 4.0 MB/s eta 0:00:00\n",
      "Downloading websockets-15.0.1-cp311-cp311-win_amd64.whl (176 kB)\n",
      "   ---------------------------------------- 0.0/176.8 kB ? eta -:--:--\n",
      "   ---------------------------------------- 176.8/176.8 kB 5.4 MB/s eta 0:00:00\n",
      "Installing collected packages: websockets, curl_cffi, yfinance\n",
      "  Attempting uninstall: yfinance\n",
      "    Found existing installation: yfinance 0.2.48\n",
      "    Uninstalling yfinance-0.2.48:\n",
      "      Successfully uninstalled yfinance-0.2.48\n",
      "Successfully installed curl_cffi-0.10.0 websockets-15.0.1 yfinance-0.2.60\n"
     ]
    }
   ],
   "source": [
    "!pip install --upgrade yfinance "
   ]
  },
  {
   "cell_type": "code",
   "execution_count": 15,
   "id": "680d1585-9262-4cf1-afd8-3f73d4c00195",
   "metadata": {},
   "outputs": [],
   "source": [
    "import yfinance as yf\n",
    "import pandas as pd\n",
    "from matplotlib import pyplot as plt"
   ]
  },
  {
   "cell_type": "code",
   "execution_count": 26,
   "id": "84e68b10-62ad-40c7-ba78-44df51a44335",
   "metadata": {},
   "outputs": [
    {
     "name": "stderr",
     "output_type": "stream",
     "text": [
      "Failed to get ticker 'GOOGL' reason: Expecting value: line 1 column 1 (char 0)\n",
      "[*********************100%***********************]  1 of 1 completed\n",
      "\n",
      "1 Failed download:\n",
      "['GOOGL']: YFTzMissingError('$%ticker%: possibly delisted; no timezone found')\n"
     ]
    },
    {
     "data": {
      "text/html": [
       "<div>\n",
       "<style scoped>\n",
       "    .dataframe tbody tr th:only-of-type {\n",
       "        vertical-align: middle;\n",
       "    }\n",
       "\n",
       "    .dataframe tbody tr th {\n",
       "        vertical-align: top;\n",
       "    }\n",
       "\n",
       "    .dataframe thead tr th {\n",
       "        text-align: left;\n",
       "    }\n",
       "\n",
       "    .dataframe thead tr:last-of-type th {\n",
       "        text-align: right;\n",
       "    }\n",
       "</style>\n",
       "<table border=\"1\" class=\"dataframe\">\n",
       "  <thead>\n",
       "    <tr>\n",
       "      <th>Price</th>\n",
       "      <th>Adj Close</th>\n",
       "      <th>Close</th>\n",
       "      <th>High</th>\n",
       "      <th>Low</th>\n",
       "      <th>Open</th>\n",
       "      <th>Volume</th>\n",
       "    </tr>\n",
       "    <tr>\n",
       "      <th>Ticker</th>\n",
       "      <th>GOOGL</th>\n",
       "      <th>GOOGL</th>\n",
       "      <th>GOOGL</th>\n",
       "      <th>GOOGL</th>\n",
       "      <th>GOOGL</th>\n",
       "      <th>GOOGL</th>\n",
       "    </tr>\n",
       "    <tr>\n",
       "      <th>Date</th>\n",
       "      <th></th>\n",
       "      <th></th>\n",
       "      <th></th>\n",
       "      <th></th>\n",
       "      <th></th>\n",
       "      <th></th>\n",
       "    </tr>\n",
       "  </thead>\n",
       "  <tbody>\n",
       "  </tbody>\n",
       "</table>\n",
       "</div>"
      ],
      "text/plain": [
       "Empty DataFrame\n",
       "Columns: [(Adj Close, GOOGL), (Close, GOOGL), (High, GOOGL), (Low, GOOGL), (Open, GOOGL), (Volume, GOOGL)]\n",
       "Index: []"
      ]
     },
     "execution_count": 26,
     "metadata": {},
     "output_type": "execute_result"
    }
   ],
   "source": [
    "# 구글 주식 데이터 로딩\n",
    "goog = yf.download(\"GOOGL\", start=\"2004-01-01\", end=\"2024-12-31\")\n",
    "goog.head()"
   ]
  },
  {
   "cell_type": "code",
   "execution_count": 12,
   "id": "6f457a51-c696-48a1-aaf2-1f496213b5c4",
   "metadata": {},
   "outputs": [
    {
     "data": {
      "text/html": [
       "<div>\n",
       "<style scoped>\n",
       "    .dataframe tbody tr th:only-of-type {\n",
       "        vertical-align: middle;\n",
       "    }\n",
       "\n",
       "    .dataframe tbody tr th {\n",
       "        vertical-align: top;\n",
       "    }\n",
       "\n",
       "    .dataframe thead th {\n",
       "        text-align: right;\n",
       "    }\n",
       "</style>\n",
       "<table border=\"1\" class=\"dataframe\">\n",
       "  <thead>\n",
       "    <tr style=\"text-align: right;\">\n",
       "      <th>Ticker</th>\n",
       "      <th>GOOG</th>\n",
       "    </tr>\n",
       "    <tr>\n",
       "      <th>Date</th>\n",
       "      <th></th>\n",
       "    </tr>\n",
       "  </thead>\n",
       "  <tbody>\n",
       "  </tbody>\n",
       "</table>\n",
       "</div>"
      ],
      "text/plain": [
       "Empty DataFrame\n",
       "Columns: [GOOG]\n",
       "Index: []"
      ]
     },
     "execution_count": 12,
     "metadata": {},
     "output_type": "execute_result"
    }
   ],
   "source": [
    "# [+] 종가(Close) 데이터만 사용하기\n",
    "goog = goog['Close']\n",
    "goog"
   ]
  },
  {
   "cell_type": "code",
   "execution_count": 13,
   "id": "f28adccb-f6d6-419e-b41f-2b348a9897de",
   "metadata": {},
   "outputs": [
    {
     "data": {
      "text/plain": [
       "<Axes: xlabel='Date'>"
      ]
     },
     "execution_count": 13,
     "metadata": {},
     "output_type": "execute_result"
    },
    {
     "data": {
      "image/png": "[encoded data removed]",
      "text/plain": [
       "<Figure size 640x480 with 1 Axes>"
      ]
     },
     "metadata": {},
     "output_type": "display_data"
    }
   ],
   "source": [
    "# [+] Lineplot 시각화\n",
    "goog.plot()"
   ]
  },
  {
   "cell_type": "markdown",
   "id": "70d87d05-d657-43d5-9cfa-c1f4147756b1",
   "metadata": {},
   "source": [
    "#### <strong> 리샘플링(Resampling)\n",
    "+ ```resample()```: 빈도를 기준으로 집계 연산\n",
    "+ ```asfreq()```: 빈도 단위 별 데이터 선택"
   ]
  },
  {
   "cell_type": "code",
   "execution_count": 27,
   "id": "78a84683-a52b-48be-91f2-4fe1da94e910",
   "metadata": {},
   "outputs": [
    {
     "ename": "ValueError",
     "evalue": "Invalid frequency: ME",
     "output_type": "error",
     "traceback": [
      "\u001b[1;31m---------------------------------------------------------------------------\u001b[0m",
      "\u001b[1;31mKeyError\u001b[0m                                  Traceback (most recent call last)",
      "File \u001b[1;32moffsets.pyx:4447\u001b[0m, in \u001b[0;36mpandas._libs.tslibs.offsets._get_offset\u001b[1;34m()\u001b[0m\n",
      "\u001b[1;31mKeyError\u001b[0m: 'ME'",
      "\nThe above exception was the direct cause of the following exception:\n",
      "\u001b[1;31mValueError\u001b[0m                                Traceback (most recent call last)",
      "File \u001b[1;32moffsets.pyx:4549\u001b[0m, in \u001b[0;36mpandas._libs.tslibs.offsets.to_offset\u001b[1;34m()\u001b[0m\n",
      "File \u001b[1;32moffsets.pyx:4453\u001b[0m, in \u001b[0;36mpandas._libs.tslibs.offsets._get_offset\u001b[1;34m()\u001b[0m\n",
      "\u001b[1;31mValueError\u001b[0m: Invalid frequency: ME",
      "\nThe above exception was the direct cause of the following exception:\n",
      "\u001b[1;31mValueError\u001b[0m                                Traceback (most recent call last)",
      "Cell \u001b[1;32mIn[27], line 2\u001b[0m\n\u001b[0;32m      1\u001b[0m \u001b[38;5;66;03m# [+] 다운샘플링: resample()\u001b[39;00m\n\u001b[1;32m----> 2\u001b[0m goog_downsampled \u001b[38;5;241m=\u001b[39m goog\u001b[38;5;241m.\u001b[39mresample(\u001b[38;5;124m'\u001b[39m\u001b[38;5;124mME\u001b[39m\u001b[38;5;124m'\u001b[39m)\u001b[38;5;241m.\u001b[39mmean()\n\u001b[0;32m      3\u001b[0m goog_downsampled\n",
      "File \u001b[1;32mc:\\Users\\3hm06\\anaconda3\\Lib\\site-packages\\pandas\\core\\generic.py:9439\u001b[0m, in \u001b[0;36mresample\u001b[1;34m(self, rule, axis, closed, label, convention, kind, on, level, origin, offset, group_keys)\u001b[0m\n\u001b[0;32m   9382\u001b[0m \u001b[38;5;129m@final\u001b[39m\n\u001b[0;32m   9383\u001b[0m \u001b[38;5;129m@doc\u001b[39m(klass\u001b[38;5;241m=\u001b[39m_shared_doc_kwargs[\u001b[38;5;124m\"\u001b[39m\u001b[38;5;124mklass\u001b[39m\u001b[38;5;124m\"\u001b[39m])\n\u001b[0;32m   9384\u001b[0m \u001b[38;5;28;01mdef\u001b[39;00m \u001b[38;5;21mresample\u001b[39m(\n\u001b[1;32m   (...)\u001b[0m\n\u001b[0;32m   9396\u001b[0m     group_keys: bool_t \u001b[38;5;241m=\u001b[39m \u001b[38;5;28;01mFalse\u001b[39;00m,\n\u001b[0;32m   9397\u001b[0m ) \u001b[38;5;241m-\u001b[39m\u001b[38;5;241m>\u001b[39m Resampler:\n\u001b[0;32m   9398\u001b[0m \u001b[38;5;250m    \u001b[39m\u001b[38;5;124;03m\"\"\"\u001b[39;00m\n\u001b[0;32m   9399\u001b[0m \u001b[38;5;124;03m    Resample time-series data.\u001b[39;00m\n\u001b[0;32m   9400\u001b[0m \n\u001b[0;32m   9401\u001b[0m \u001b[38;5;124;03m    Convenience method for frequency conversion and resampling of time series.\u001b[39;00m\n\u001b[0;32m   9402\u001b[0m \u001b[38;5;124;03m    The object must have a datetime-like index (`DatetimeIndex`, `PeriodIndex`,\u001b[39;00m\n\u001b[0;32m   9403\u001b[0m \u001b[38;5;124;03m    or `TimedeltaIndex`), or the caller must pass the label of a datetime-like\u001b[39;00m\n\u001b[0;32m   9404\u001b[0m \u001b[38;5;124;03m    series/index to the ``on``/``level`` keyword parameter.\u001b[39;00m\n\u001b[0;32m   9405\u001b[0m \n\u001b[0;32m   9406\u001b[0m \u001b[38;5;124;03m    Parameters\u001b[39;00m\n\u001b[0;32m   9407\u001b[0m \u001b[38;5;124;03m    ----------\u001b[39;00m\n\u001b[0;32m   9408\u001b[0m \u001b[38;5;124;03m    rule : DateOffset, Timedelta or str\u001b[39;00m\n\u001b[0;32m   9409\u001b[0m \u001b[38;5;124;03m        The offset string or object representing target conversion.\u001b[39;00m\n\u001b[0;32m   9410\u001b[0m \u001b[38;5;124;03m    axis : {{0 or 'index', 1 or 'columns'}}, default 0\u001b[39;00m\n\u001b[0;32m   9411\u001b[0m \u001b[38;5;124;03m        Which axis to use for up- or down-sampling. For `Series` this parameter\u001b[39;00m\n\u001b[0;32m   9412\u001b[0m \u001b[38;5;124;03m        is unused and defaults to 0. Must be\u001b[39;00m\n\u001b[0;32m   9413\u001b[0m \u001b[38;5;124;03m        `DatetimeIndex`, `TimedeltaIndex` or `PeriodIndex`.\u001b[39;00m\n\u001b[0;32m   9414\u001b[0m \n\u001b[0;32m   9415\u001b[0m \u001b[38;5;124;03m        .. deprecated:: 2.0.0\u001b[39;00m\n\u001b[0;32m   9416\u001b[0m \u001b[38;5;124;03m            Use frame.T.resample(...) instead.\u001b[39;00m\n\u001b[0;32m   9417\u001b[0m \u001b[38;5;124;03m    closed : {{'right', 'left'}}, default None\u001b[39;00m\n\u001b[0;32m   9418\u001b[0m \u001b[38;5;124;03m        Which side of bin interval is closed. The default is 'left'\u001b[39;00m\n\u001b[0;32m   9419\u001b[0m \u001b[38;5;124;03m        for all frequency offsets except for 'ME', 'YE', 'QE', 'BME',\u001b[39;00m\n\u001b[0;32m   9420\u001b[0m \u001b[38;5;124;03m        'BA', 'BQE', and 'W' which all have a default of 'right'.\u001b[39;00m\n\u001b[0;32m   9421\u001b[0m \u001b[38;5;124;03m    label : {{'right', 'left'}}, default None\u001b[39;00m\n\u001b[0;32m   9422\u001b[0m \u001b[38;5;124;03m        Which bin edge label to label bucket with. The default is 'left'\u001b[39;00m\n\u001b[0;32m   9423\u001b[0m \u001b[38;5;124;03m        for all frequency offsets except for 'ME', 'YE', 'QE', 'BME',\u001b[39;00m\n\u001b[0;32m   9424\u001b[0m \u001b[38;5;124;03m        'BA', 'BQE', and 'W' which all have a default of 'right'.\u001b[39;00m\n\u001b[0;32m   9425\u001b[0m \u001b[38;5;124;03m    convention : {{'start', 'end', 's', 'e'}}, default 'start'\u001b[39;00m\n\u001b[0;32m   9426\u001b[0m \u001b[38;5;124;03m        For `PeriodIndex` only, controls whether to use the start or\u001b[39;00m\n\u001b[0;32m   9427\u001b[0m \u001b[38;5;124;03m        end of `rule`.\u001b[39;00m\n\u001b[0;32m   9428\u001b[0m \n\u001b[0;32m   9429\u001b[0m \u001b[38;5;124;03m        .. deprecated:: 2.2.0\u001b[39;00m\n\u001b[0;32m   9430\u001b[0m \u001b[38;5;124;03m            Convert PeriodIndex to DatetimeIndex before resampling instead.\u001b[39;00m\n\u001b[0;32m   9431\u001b[0m \u001b[38;5;124;03m    kind : {{'timestamp', 'period'}}, optional, default None\u001b[39;00m\n\u001b[0;32m   9432\u001b[0m \u001b[38;5;124;03m        Pass 'timestamp' to convert the resulting index to a\u001b[39;00m\n\u001b[0;32m   9433\u001b[0m \u001b[38;5;124;03m        `DateTimeIndex` or 'period' to convert it to a `PeriodIndex`.\u001b[39;00m\n\u001b[0;32m   9434\u001b[0m \u001b[38;5;124;03m        By default the input representation is retained.\u001b[39;00m\n\u001b[0;32m   9435\u001b[0m \n\u001b[0;32m   9436\u001b[0m \u001b[38;5;124;03m        .. deprecated:: 2.2.0\u001b[39;00m\n\u001b[0;32m   9437\u001b[0m \u001b[38;5;124;03m            Convert index to desired type explicitly instead.\u001b[39;00m\n\u001b[0;32m   9438\u001b[0m \n\u001b[1;32m-> 9439\u001b[0m \u001b[38;5;124;03m    on : str, optional\u001b[39;00m\n\u001b[0;32m   9440\u001b[0m \u001b[38;5;124;03m        For a DataFrame, column to use instead of index for resampling.\u001b[39;00m\n\u001b[0;32m   9441\u001b[0m \u001b[38;5;124;03m        Column must be datetime-like.\u001b[39;00m\n\u001b[0;32m   9442\u001b[0m \u001b[38;5;124;03m    level : str or int, optional\u001b[39;00m\n\u001b[0;32m   9443\u001b[0m \u001b[38;5;124;03m        For a MultiIndex, level (name or number) to use for\u001b[39;00m\n\u001b[0;32m   9444\u001b[0m \u001b[38;5;124;03m        resampling. `level` must be datetime-like.\u001b[39;00m\n\u001b[0;32m   9445\u001b[0m \u001b[38;5;124;03m    origin : Timestamp or str, default 'start_day'\u001b[39;00m\n\u001b[0;32m   9446\u001b[0m \u001b[38;5;124;03m        The timestamp on which to adjust the grouping. The timezone of origin\u001b[39;00m\n\u001b[0;32m   9447\u001b[0m \u001b[38;5;124;03m        must match the timezone of the index.\u001b[39;00m\n\u001b[0;32m   9448\u001b[0m \u001b[38;5;124;03m        If string, must be one of the following:\u001b[39;00m\n\u001b[0;32m   9449\u001b[0m \n\u001b[0;32m   9450\u001b[0m \u001b[38;5;124;03m        - 'epoch': `origin` is 1970-01-01\u001b[39;00m\n\u001b[0;32m   9451\u001b[0m \u001b[38;5;124;03m        - 'start': `origin` is the first value of the timeseries\u001b[39;00m\n\u001b[0;32m   9452\u001b[0m \u001b[38;5;124;03m        - 'start_day': `origin` is the first day at midnight of the timeseries\u001b[39;00m\n\u001b[0;32m   9453\u001b[0m \n\u001b[0;32m   9454\u001b[0m \u001b[38;5;124;03m        - 'end': `origin` is the last value of the timeseries\u001b[39;00m\n\u001b[0;32m   9455\u001b[0m \u001b[38;5;124;03m        - 'end_day': `origin` is the ceiling midnight of the last day\u001b[39;00m\n\u001b[0;32m   9456\u001b[0m \n\u001b[0;32m   9457\u001b[0m \u001b[38;5;124;03m        .. versionadded:: 1.3.0\u001b[39;00m\n\u001b[0;32m   9458\u001b[0m \n\u001b[0;32m   9459\u001b[0m \u001b[38;5;124;03m        .. note::\u001b[39;00m\n\u001b[0;32m   9460\u001b[0m \n\u001b[0;32m   9461\u001b[0m \u001b[38;5;124;03m            Only takes effect for Tick-frequencies (i.e. fixed frequencies like\u001b[39;00m\n\u001b[0;32m   9462\u001b[0m \u001b[38;5;124;03m            days, hours, and minutes, rather than months or quarters).\u001b[39;00m\n\u001b[0;32m   9463\u001b[0m \u001b[38;5;124;03m    offset : Timedelta or str, default is None\u001b[39;00m\n\u001b[0;32m   9464\u001b[0m \u001b[38;5;124;03m        An offset timedelta added to the origin.\u001b[39;00m\n\u001b[0;32m   9465\u001b[0m \n\u001b[0;32m   9466\u001b[0m \u001b[38;5;124;03m    group_keys : bool, default False\u001b[39;00m\n\u001b[0;32m   9467\u001b[0m \u001b[38;5;124;03m        Whether to include the group keys in the result index when using\u001b[39;00m\n\u001b[0;32m   9468\u001b[0m \u001b[38;5;124;03m        ``.apply()`` on the resampled object.\u001b[39;00m\n\u001b[0;32m   9469\u001b[0m \n\u001b[0;32m   9470\u001b[0m \u001b[38;5;124;03m        .. versionadded:: 1.5.0\u001b[39;00m\n\u001b[0;32m   9471\u001b[0m \n\u001b[0;32m   9472\u001b[0m \u001b[38;5;124;03m            Not specifying ``group_keys`` will retain values-dependent behavior\u001b[39;00m\n\u001b[0;32m   9473\u001b[0m \u001b[38;5;124;03m            from pandas 1.4 and earlier (see :ref:`pandas 1.5.0 Release notes\u001b[39;00m\n\u001b[0;32m   9474\u001b[0m \u001b[38;5;124;03m            <whatsnew_150.enhancements.resample_group_keys>` for examples).\u001b[39;00m\n\u001b[0;32m   9475\u001b[0m \n\u001b[0;32m   9476\u001b[0m \u001b[38;5;124;03m        .. versionchanged:: 2.0.0\u001b[39;00m\n\u001b[0;32m   9477\u001b[0m \n\u001b[0;32m   9478\u001b[0m \u001b[38;5;124;03m            ``group_keys`` now defaults to ``False``.\u001b[39;00m\n\u001b[0;32m   9479\u001b[0m \n\u001b[0;32m   9480\u001b[0m \u001b[38;5;124;03m    Returns\u001b[39;00m\n\u001b[0;32m   9481\u001b[0m \u001b[38;5;124;03m    -------\u001b[39;00m\n\u001b[0;32m   9482\u001b[0m \u001b[38;5;124;03m    pandas.api.typing.Resampler\u001b[39;00m\n\u001b[0;32m   9483\u001b[0m \u001b[38;5;124;03m        :class:`~pandas.core.Resampler` object.\u001b[39;00m\n\u001b[0;32m   9484\u001b[0m \n\u001b[0;32m   9485\u001b[0m \u001b[38;5;124;03m    See Also\u001b[39;00m\n\u001b[0;32m   9486\u001b[0m \u001b[38;5;124;03m    --------\u001b[39;00m\n\u001b[0;32m   9487\u001b[0m \u001b[38;5;124;03m    Series.resample : Resample a Series.\u001b[39;00m\n\u001b[0;32m   9488\u001b[0m \u001b[38;5;124;03m    DataFrame.resample : Resample a DataFrame.\u001b[39;00m\n\u001b[0;32m   9489\u001b[0m \u001b[38;5;124;03m    groupby : Group {klass} by mapping, function, label, or list of labels.\u001b[39;00m\n\u001b[0;32m   9490\u001b[0m \u001b[38;5;124;03m    asfreq : Reindex a {klass} with the given frequency without grouping.\u001b[39;00m\n\u001b[0;32m   9491\u001b[0m \n\u001b[0;32m   9492\u001b[0m \u001b[38;5;124;03m    Notes\u001b[39;00m\n\u001b[0;32m   9493\u001b[0m \u001b[38;5;124;03m    -----\u001b[39;00m\n\u001b[0;32m   9494\u001b[0m \u001b[38;5;124;03m    See the `user guide\u001b[39;00m\n\u001b[0;32m   9495\u001b[0m \u001b[38;5;124;03m    <https://pandas.pydata.org/pandas-docs/stable/user_guide/timeseries.html#resampling>`__\u001b[39;00m\n\u001b[0;32m   9496\u001b[0m \u001b[38;5;124;03m    for more.\u001b[39;00m\n\u001b[0;32m   9497\u001b[0m \n\u001b[0;32m   9498\u001b[0m \u001b[38;5;124;03m    To learn more about the offset strings, please see `this link\u001b[39;00m\n\u001b[0;32m   9499\u001b[0m \u001b[38;5;124;03m    <https://pandas.pydata.org/pandas-docs/stable/user_guide/timeseries.html#dateoffset-objects>`__.\u001b[39;00m\n\u001b[0;32m   9500\u001b[0m \n\u001b[0;32m   9501\u001b[0m \u001b[38;5;124;03m    Examples\u001b[39;00m\n\u001b[0;32m   9502\u001b[0m \u001b[38;5;124;03m    --------\u001b[39;00m\n\u001b[0;32m   9503\u001b[0m \u001b[38;5;124;03m    Start by creating a series with 9 one minute timestamps.\u001b[39;00m\n\u001b[0;32m   9504\u001b[0m \n\u001b[0;32m   9505\u001b[0m \u001b[38;5;124;03m    >>> index = pd.date_range('1/1/2000', periods=9, freq='min')\u001b[39;00m\n\u001b[0;32m   9506\u001b[0m \u001b[38;5;124;03m    >>> series = pd.Series(range(9), index=index)\u001b[39;00m\n\u001b[0;32m   9507\u001b[0m \u001b[38;5;124;03m    >>> series\u001b[39;00m\n\u001b[0;32m   9508\u001b[0m \u001b[38;5;124;03m    2000-01-01 00:00:00    0\u001b[39;00m\n\u001b[0;32m   9509\u001b[0m \u001b[38;5;124;03m    2000-01-01 00:01:00    1\u001b[39;00m\n\u001b[0;32m   9510\u001b[0m \u001b[38;5;124;03m    2000-01-01 00:02:00    2\u001b[39;00m\n\u001b[0;32m   9511\u001b[0m \u001b[38;5;124;03m    2000-01-01 00:03:00    3\u001b[39;00m\n\u001b[0;32m   9512\u001b[0m \u001b[38;5;124;03m    2000-01-01 00:04:00    4\u001b[39;00m\n\u001b[0;32m   9513\u001b[0m \u001b[38;5;124;03m    2000-01-01 00:05:00    5\u001b[39;00m\n\u001b[0;32m   9514\u001b[0m \u001b[38;5;124;03m    2000-01-01 00:06:00    6\u001b[39;00m\n\u001b[0;32m   9515\u001b[0m \u001b[38;5;124;03m    2000-01-01 00:07:00    7\u001b[39;00m\n\u001b[0;32m   9516\u001b[0m \u001b[38;5;124;03m    2000-01-01 00:08:00    8\u001b[39;00m\n\u001b[0;32m   9517\u001b[0m \u001b[38;5;124;03m    Freq: min, dtype: int64\u001b[39;00m\n\u001b[0;32m   9518\u001b[0m \n\u001b[0;32m   9519\u001b[0m \u001b[38;5;124;03m    Downsample the series into 3 minute bins and sum the values\u001b[39;00m\n\u001b[0;32m   9520\u001b[0m \u001b[38;5;124;03m    of the timestamps falling into a bin.\u001b[39;00m\n\u001b[0;32m   9521\u001b[0m \n\u001b[0;32m   9522\u001b[0m \u001b[38;5;124;03m    >>> series.resample('3min').sum()\u001b[39;00m\n\u001b[0;32m   9523\u001b[0m \u001b[38;5;124;03m    2000-01-01 00:00:00     3\u001b[39;00m\n\u001b[0;32m   9524\u001b[0m \u001b[38;5;124;03m    2000-01-01 00:03:00    12\u001b[39;00m\n\u001b[0;32m   9525\u001b[0m \u001b[38;5;124;03m    2000-01-01 00:06:00    21\u001b[39;00m\n\u001b[0;32m   9526\u001b[0m \u001b[38;5;124;03m    Freq: 3min, dtype: int64\u001b[39;00m\n\u001b[0;32m   9527\u001b[0m \n\u001b[0;32m   9528\u001b[0m \u001b[38;5;124;03m    Downsample the series into 3 minute bins as above, but label each\u001b[39;00m\n\u001b[0;32m   9529\u001b[0m \u001b[38;5;124;03m    bin using the right edge instead of the left. Please note that the\u001b[39;00m\n\u001b[0;32m   9530\u001b[0m \u001b[38;5;124;03m    value in the bucket used as the label is not included in the bucket,\u001b[39;00m\n\u001b[0;32m   9531\u001b[0m \u001b[38;5;124;03m    which it labels. For example, in the original series the\u001b[39;00m\n\u001b[0;32m   9532\u001b[0m \u001b[38;5;124;03m    bucket ``2000-01-01 00:03:00`` contains the value 3, but the summed\u001b[39;00m\n\u001b[0;32m   9533\u001b[0m \u001b[38;5;124;03m    value in the resampled bucket with the label ``2000-01-01 00:03:00``\u001b[39;00m\n\u001b[0;32m   9534\u001b[0m \u001b[38;5;124;03m    does not include 3 (if it did, the summed value would be 6, not 3).\u001b[39;00m\n\u001b[0;32m   9535\u001b[0m \n\u001b[0;32m   9536\u001b[0m \u001b[38;5;124;03m    >>> series.resample('3min', label='right').sum()\u001b[39;00m\n\u001b[0;32m   9537\u001b[0m \u001b[38;5;124;03m    2000-01-01 00:03:00     3\u001b[39;00m\n\u001b[0;32m   9538\u001b[0m \u001b[38;5;124;03m    2000-01-01 00:06:00    12\u001b[39;00m\n\u001b[0;32m   9539\u001b[0m \u001b[38;5;124;03m    2000-01-01 00:09:00    21\u001b[39;00m\n\u001b[0;32m   9540\u001b[0m \u001b[38;5;124;03m    Freq: 3min, dtype: int64\u001b[39;00m\n\u001b[0;32m   9541\u001b[0m \n\u001b[0;32m   9542\u001b[0m \u001b[38;5;124;03m    To include this value close the right side of the bin interval,\u001b[39;00m\n\u001b[0;32m   9543\u001b[0m \u001b[38;5;124;03m    as shown below.\u001b[39;00m\n\u001b[0;32m   9544\u001b[0m \n\u001b[0;32m   9545\u001b[0m \u001b[38;5;124;03m    >>> series.resample('3min', label='right', closed='right').sum()\u001b[39;00m\n\u001b[0;32m   9546\u001b[0m \u001b[38;5;124;03m    2000-01-01 00:00:00     0\u001b[39;00m\n\u001b[0;32m   9547\u001b[0m \u001b[38;5;124;03m    2000-01-01 00:03:00     6\u001b[39;00m\n\u001b[0;32m   9548\u001b[0m \u001b[38;5;124;03m    2000-01-01 00:06:00    15\u001b[39;00m\n\u001b[0;32m   9549\u001b[0m \u001b[38;5;124;03m    2000-01-01 00:09:00    15\u001b[39;00m\n\u001b[0;32m   9550\u001b[0m \u001b[38;5;124;03m    Freq: 3min, dtype: int64\u001b[39;00m\n\u001b[0;32m   9551\u001b[0m \n\u001b[0;32m   9552\u001b[0m \u001b[38;5;124;03m    Upsample the series into 30 second bins.\u001b[39;00m\n\u001b[0;32m   9553\u001b[0m \n\u001b[0;32m   9554\u001b[0m \u001b[38;5;124;03m    >>> series.resample('30s').asfreq()[0:5]   # Select first 5 rows\u001b[39;00m\n\u001b[0;32m   9555\u001b[0m \u001b[38;5;124;03m    2000-01-01 00:00:00   0.0\u001b[39;00m\n\u001b[0;32m   9556\u001b[0m \u001b[38;5;124;03m    2000-01-01 00:00:30   NaN\u001b[39;00m\n\u001b[0;32m   9557\u001b[0m \u001b[38;5;124;03m    2000-01-01 00:01:00   1.0\u001b[39;00m\n\u001b[0;32m   9558\u001b[0m \u001b[38;5;124;03m    2000-01-01 00:01:30   NaN\u001b[39;00m\n\u001b[0;32m   9559\u001b[0m \u001b[38;5;124;03m    2000-01-01 00:02:00   2.0\u001b[39;00m\n\u001b[0;32m   9560\u001b[0m \u001b[38;5;124;03m    Freq: 30s, dtype: float64\u001b[39;00m\n\u001b[0;32m   9561\u001b[0m \n\u001b[0;32m   9562\u001b[0m \u001b[38;5;124;03m    Upsample the series into 30 second bins and fill the ``NaN``\u001b[39;00m\n\u001b[0;32m   9563\u001b[0m \u001b[38;5;124;03m    values using the ``ffill`` method.\u001b[39;00m\n\u001b[0;32m   9564\u001b[0m \n\u001b[0;32m   9565\u001b[0m \u001b[38;5;124;03m    >>> series.resample('30s').ffill()[0:5]\u001b[39;00m\n\u001b[0;32m   9566\u001b[0m \u001b[38;5;124;03m    2000-01-01 00:00:00    0\u001b[39;00m\n\u001b[0;32m   9567\u001b[0m \u001b[38;5;124;03m    2000-01-01 00:00:30    0\u001b[39;00m\n\u001b[0;32m   9568\u001b[0m \u001b[38;5;124;03m    2000-01-01 00:01:00    1\u001b[39;00m\n\u001b[0;32m   9569\u001b[0m \u001b[38;5;124;03m    2000-01-01 00:01:30    1\u001b[39;00m\n\u001b[0;32m   9570\u001b[0m \u001b[38;5;124;03m    2000-01-01 00:02:00    2\u001b[39;00m\n\u001b[0;32m   9571\u001b[0m \u001b[38;5;124;03m    Freq: 30s, dtype: int64\u001b[39;00m\n\u001b[0;32m   9572\u001b[0m \n\u001b[0;32m   9573\u001b[0m \u001b[38;5;124;03m    Upsample the series into 30 second bins and fill the\u001b[39;00m\n\u001b[0;32m   9574\u001b[0m \u001b[38;5;124;03m    ``NaN`` values using the ``bfill`` method.\u001b[39;00m\n\u001b[0;32m   9575\u001b[0m \n\u001b[0;32m   9576\u001b[0m \u001b[38;5;124;03m    >>> series.resample('30s').bfill()[0:5]\u001b[39;00m\n\u001b[0;32m   9577\u001b[0m \u001b[38;5;124;03m    2000-01-01 00:00:00    0\u001b[39;00m\n\u001b[0;32m   9578\u001b[0m \u001b[38;5;124;03m    2000-01-01 00:00:30    1\u001b[39;00m\n\u001b[0;32m   9579\u001b[0m \u001b[38;5;124;03m    2000-01-01 00:01:00    1\u001b[39;00m\n\u001b[0;32m   9580\u001b[0m \u001b[38;5;124;03m    2000-01-01 00:01:30    2\u001b[39;00m\n\u001b[0;32m   9581\u001b[0m \u001b[38;5;124;03m    2000-01-01 00:02:00    2\u001b[39;00m\n\u001b[0;32m   9582\u001b[0m \u001b[38;5;124;03m    Freq: 30s, dtype: int64\u001b[39;00m\n\u001b[0;32m   9583\u001b[0m \n\u001b[0;32m   9584\u001b[0m \u001b[38;5;124;03m    Pass a custom function via ``apply``\u001b[39;00m\n\u001b[0;32m   9585\u001b[0m \n\u001b[0;32m   9586\u001b[0m \u001b[38;5;124;03m    >>> def custom_resampler(arraylike):\u001b[39;00m\n\u001b[0;32m   9587\u001b[0m \u001b[38;5;124;03m    ...     return np.sum(arraylike) + 5\u001b[39;00m\n\u001b[0;32m   9588\u001b[0m \u001b[38;5;124;03m    ...\u001b[39;00m\n\u001b[0;32m   9589\u001b[0m \u001b[38;5;124;03m    >>> series.resample('3min').apply(custom_resampler)\u001b[39;00m\n\u001b[0;32m   9590\u001b[0m \u001b[38;5;124;03m    2000-01-01 00:00:00     8\u001b[39;00m\n\u001b[0;32m   9591\u001b[0m \u001b[38;5;124;03m    2000-01-01 00:03:00    17\u001b[39;00m\n\u001b[0;32m   9592\u001b[0m \u001b[38;5;124;03m    2000-01-01 00:06:00    26\u001b[39;00m\n\u001b[0;32m   9593\u001b[0m \u001b[38;5;124;03m    Freq: 3min, dtype: int64\u001b[39;00m\n\u001b[0;32m   9594\u001b[0m \n\u001b[0;32m   9595\u001b[0m \u001b[38;5;124;03m    For DataFrame objects, the keyword `on` can be used to specify the\u001b[39;00m\n\u001b[0;32m   9596\u001b[0m \u001b[38;5;124;03m    column instead of the index for resampling.\u001b[39;00m\n\u001b[0;32m   9597\u001b[0m \n\u001b[0;32m   9598\u001b[0m \u001b[38;5;124;03m    >>> d = {{'price': [10, 11, 9, 13, 14, 18, 17, 19],\u001b[39;00m\n\u001b[0;32m   9599\u001b[0m \u001b[38;5;124;03m    ...      'volume': [50, 60, 40, 100, 50, 100, 40, 50]}}\u001b[39;00m\n\u001b[0;32m   9600\u001b[0m \u001b[38;5;124;03m    >>> df = pd.DataFrame(d)\u001b[39;00m\n\u001b[0;32m   9601\u001b[0m \u001b[38;5;124;03m    >>> df['week_starting'] = pd.date_range('01/01/2018',\u001b[39;00m\n\u001b[0;32m   9602\u001b[0m \u001b[38;5;124;03m    ...                                     periods=8,\u001b[39;00m\n\u001b[0;32m   9603\u001b[0m \u001b[38;5;124;03m    ...                                     freq='W')\u001b[39;00m\n\u001b[0;32m   9604\u001b[0m \u001b[38;5;124;03m    >>> df\u001b[39;00m\n\u001b[0;32m   9605\u001b[0m \u001b[38;5;124;03m       price  volume week_starting\u001b[39;00m\n\u001b[0;32m   9606\u001b[0m \u001b[38;5;124;03m    0     10      50    2018-01-07\u001b[39;00m\n\u001b[0;32m   9607\u001b[0m \u001b[38;5;124;03m    1     11      60    2018-01-14\u001b[39;00m\n\u001b[0;32m   9608\u001b[0m \u001b[38;5;124;03m    2      9      40    2018-01-21\u001b[39;00m\n\u001b[0;32m   9609\u001b[0m \u001b[38;5;124;03m    3     13     100    2018-01-28\u001b[39;00m\n\u001b[0;32m   9610\u001b[0m \u001b[38;5;124;03m    4     14      50    2018-02-04\u001b[39;00m\n\u001b[0;32m   9611\u001b[0m \u001b[38;5;124;03m    5     18     100    2018-02-11\u001b[39;00m\n\u001b[0;32m   9612\u001b[0m \u001b[38;5;124;03m    6     17      40    2018-02-18\u001b[39;00m\n\u001b[0;32m   9613\u001b[0m \u001b[38;5;124;03m    7     19      50    2018-02-25\u001b[39;00m\n\u001b[0;32m   9614\u001b[0m \u001b[38;5;124;03m    >>> df.resample('ME', on='week_starting').mean()\u001b[39;00m\n\u001b[0;32m   9615\u001b[0m \u001b[38;5;124;03m                   price  volume\u001b[39;00m\n\u001b[0;32m   9616\u001b[0m \u001b[38;5;124;03m    week_starting\u001b[39;00m\n\u001b[0;32m   9617\u001b[0m \u001b[38;5;124;03m    2018-01-31     10.75    62.5\u001b[39;00m\n\u001b[0;32m   9618\u001b[0m \u001b[38;5;124;03m    2018-02-28     17.00    60.0\u001b[39;00m\n\u001b[0;32m   9619\u001b[0m \n\u001b[0;32m   9620\u001b[0m \u001b[38;5;124;03m    For a DataFrame with MultiIndex, the keyword `level` can be used to\u001b[39;00m\n\u001b[0;32m   9621\u001b[0m \u001b[38;5;124;03m    specify on which level the resampling needs to take place.\u001b[39;00m\n\u001b[0;32m   9622\u001b[0m \n\u001b[0;32m   9623\u001b[0m \u001b[38;5;124;03m    >>> days = pd.date_range('1/1/2000', periods=4, freq='D')\u001b[39;00m\n\u001b[0;32m   9624\u001b[0m \u001b[38;5;124;03m    >>> d2 = {{'price': [10, 11, 9, 13, 14, 18, 17, 19],\u001b[39;00m\n\u001b[0;32m   9625\u001b[0m \u001b[38;5;124;03m    ...       'volume': [50, 60, 40, 100, 50, 100, 40, 50]}}\u001b[39;00m\n\u001b[0;32m   9626\u001b[0m \u001b[38;5;124;03m    >>> df2 = pd.DataFrame(\u001b[39;00m\n\u001b[0;32m   9627\u001b[0m \u001b[38;5;124;03m    ...     d2,\u001b[39;00m\n\u001b[0;32m   9628\u001b[0m \u001b[38;5;124;03m    ...     index=pd.MultiIndex.from_product(\u001b[39;00m\n\u001b[0;32m   9629\u001b[0m \u001b[38;5;124;03m    ...         [days, ['morning', 'afternoon']]\u001b[39;00m\n\u001b[0;32m   9630\u001b[0m \u001b[38;5;124;03m    ...     )\u001b[39;00m\n\u001b[0;32m   9631\u001b[0m \u001b[38;5;124;03m    ... )\u001b[39;00m\n\u001b[0;32m   9632\u001b[0m \u001b[38;5;124;03m    >>> df2\u001b[39;00m\n\u001b[0;32m   9633\u001b[0m \u001b[38;5;124;03m                          price  volume\u001b[39;00m\n\u001b[0;32m   9634\u001b[0m \u001b[38;5;124;03m    2000-01-01 morning       10      50\u001b[39;00m\n\u001b[0;32m   9635\u001b[0m \u001b[38;5;124;03m               afternoon     11      60\u001b[39;00m\n\u001b[0;32m   9636\u001b[0m \u001b[38;5;124;03m    2000-01-02 morning        9      40\u001b[39;00m\n\u001b[0;32m   9637\u001b[0m \u001b[38;5;124;03m               afternoon     13     100\u001b[39;00m\n\u001b[0;32m   9638\u001b[0m \u001b[38;5;124;03m    2000-01-03 morning       14      50\u001b[39;00m\n\u001b[0;32m   9639\u001b[0m \u001b[38;5;124;03m               afternoon     18     100\u001b[39;00m\n\u001b[0;32m   9640\u001b[0m \u001b[38;5;124;03m    2000-01-04 morning       17      40\u001b[39;00m\n\u001b[0;32m   9641\u001b[0m \u001b[38;5;124;03m               afternoon     19      50\u001b[39;00m\n\u001b[0;32m   9642\u001b[0m \u001b[38;5;124;03m    >>> df2.resample('D', level=0).sum()\u001b[39;00m\n\u001b[0;32m   9643\u001b[0m \u001b[38;5;124;03m                price  volume\u001b[39;00m\n\u001b[0;32m   9644\u001b[0m \u001b[38;5;124;03m    2000-01-01     21     110\u001b[39;00m\n\u001b[0;32m   9645\u001b[0m \u001b[38;5;124;03m    2000-01-02     22     140\u001b[39;00m\n\u001b[0;32m   9646\u001b[0m \u001b[38;5;124;03m    2000-01-03     32     150\u001b[39;00m\n\u001b[0;32m   9647\u001b[0m \u001b[38;5;124;03m    2000-01-04     36      90\u001b[39;00m\n\u001b[0;32m   9648\u001b[0m \n\u001b[0;32m   9649\u001b[0m \u001b[38;5;124;03m    If you want to adjust the start of the bins based on a fixed timestamp:\u001b[39;00m\n\u001b[0;32m   9650\u001b[0m \n\u001b[0;32m   9651\u001b[0m \u001b[38;5;124;03m    >>> start, end = '2000-10-01 23:30:00', '2000-10-02 00:30:00'\u001b[39;00m\n\u001b[0;32m   9652\u001b[0m \u001b[38;5;124;03m    >>> rng = pd.date_range(start, end, freq='7min')\u001b[39;00m\n\u001b[0;32m   9653\u001b[0m \u001b[38;5;124;03m    >>> ts = pd.Series(np.arange(len(rng)) * 3, index=rng)\u001b[39;00m\n\u001b[0;32m   9654\u001b[0m \u001b[38;5;124;03m    >>> ts\u001b[39;00m\n\u001b[0;32m   9655\u001b[0m \u001b[38;5;124;03m    2000-10-01 23:30:00     0\u001b[39;00m\n\u001b[0;32m   9656\u001b[0m \u001b[38;5;124;03m    2000-10-01 23:37:00     3\u001b[39;00m\n\u001b[0;32m   9657\u001b[0m \u001b[38;5;124;03m    2000-10-01 23:44:00     6\u001b[39;00m\n\u001b[0;32m   9658\u001b[0m \u001b[38;5;124;03m    2000-10-01 23:51:00     9\u001b[39;00m\n\u001b[0;32m   9659\u001b[0m \u001b[38;5;124;03m    2000-10-01 23:58:00    12\u001b[39;00m\n\u001b[0;32m   9660\u001b[0m \u001b[38;5;124;03m    2000-10-02 00:05:00    15\u001b[39;00m\n\u001b[0;32m   9661\u001b[0m \u001b[38;5;124;03m    2000-10-02 00:12:00    18\u001b[39;00m\n\u001b[0;32m   9662\u001b[0m \u001b[38;5;124;03m    2000-10-02 00:19:00    21\u001b[39;00m\n\u001b[0;32m   9663\u001b[0m \u001b[38;5;124;03m    2000-10-02 00:26:00    24\u001b[39;00m\n\u001b[0;32m   9664\u001b[0m \u001b[38;5;124;03m    Freq: 7min, dtype: int64\u001b[39;00m\n\u001b[0;32m   9665\u001b[0m \n\u001b[0;32m   9666\u001b[0m \u001b[38;5;124;03m    >>> ts.resample('17min').sum()\u001b[39;00m\n\u001b[0;32m   9667\u001b[0m \u001b[38;5;124;03m    2000-10-01 23:14:00     0\u001b[39;00m\n\u001b[0;32m   9668\u001b[0m \u001b[38;5;124;03m    2000-10-01 23:31:00     9\u001b[39;00m\n\u001b[0;32m   9669\u001b[0m \u001b[38;5;124;03m    2000-10-01 23:48:00    21\u001b[39;00m\n\u001b[0;32m   9670\u001b[0m \u001b[38;5;124;03m    2000-10-02 00:05:00    54\u001b[39;00m\n\u001b[0;32m   9671\u001b[0m \u001b[38;5;124;03m    2000-10-02 00:22:00    24\u001b[39;00m\n\u001b[0;32m   9672\u001b[0m \u001b[38;5;124;03m    Freq: 17min, dtype: int64\u001b[39;00m\n\u001b[0;32m   9673\u001b[0m \n\u001b[0;32m   9674\u001b[0m \u001b[38;5;124;03m    >>> ts.resample('17min', origin='epoch').sum()\u001b[39;00m\n\u001b[0;32m   9675\u001b[0m \u001b[38;5;124;03m    2000-10-01 23:18:00     0\u001b[39;00m\n\u001b[0;32m   9676\u001b[0m \u001b[38;5;124;03m    2000-10-01 23:35:00    18\u001b[39;00m\n\u001b[0;32m   9677\u001b[0m \u001b[38;5;124;03m    2000-10-01 23:52:00    27\u001b[39;00m\n\u001b[0;32m   9678\u001b[0m \u001b[38;5;124;03m    2000-10-02 00:09:00    39\u001b[39;00m\n\u001b[0;32m   9679\u001b[0m \u001b[38;5;124;03m    2000-10-02 00:26:00    24\u001b[39;00m\n\u001b[0;32m   9680\u001b[0m \u001b[38;5;124;03m    Freq: 17min, dtype: int64\u001b[39;00m\n\u001b[0;32m   9681\u001b[0m \n\u001b[0;32m   9682\u001b[0m \u001b[38;5;124;03m    >>> ts.resample('17min', origin='2000-01-01').sum()\u001b[39;00m\n\u001b[0;32m   9683\u001b[0m \u001b[38;5;124;03m    2000-10-01 23:24:00     3\u001b[39;00m\n\u001b[0;32m   9684\u001b[0m \u001b[38;5;124;03m    2000-10-01 23:41:00    15\u001b[39;00m\n\u001b[0;32m   9685\u001b[0m \u001b[38;5;124;03m    2000-10-01 23:58:00    45\u001b[39;00m\n\u001b[0;32m   9686\u001b[0m \u001b[38;5;124;03m    2000-10-02 00:15:00    45\u001b[39;00m\n\u001b[0;32m   9687\u001b[0m \u001b[38;5;124;03m    Freq: 17min, dtype: int64\u001b[39;00m\n\u001b[0;32m   9688\u001b[0m \n\u001b[0;32m   9689\u001b[0m \u001b[38;5;124;03m    If you want to adjust the start of the bins with an `offset` Timedelta, the two\u001b[39;00m\n\u001b[0;32m   9690\u001b[0m \u001b[38;5;124;03m    following lines are equivalent:\u001b[39;00m\n\u001b[0;32m   9691\u001b[0m \n\u001b[0;32m   9692\u001b[0m \u001b[38;5;124;03m    >>> ts.resample('17min', origin='start').sum()\u001b[39;00m\n\u001b[0;32m   9693\u001b[0m \u001b[38;5;124;03m    2000-10-01 23:30:00     9\u001b[39;00m\n\u001b[0;32m   9694\u001b[0m \u001b[38;5;124;03m    2000-10-01 23:47:00    21\u001b[39;00m\n\u001b[0;32m   9695\u001b[0m \u001b[38;5;124;03m    2000-10-02 00:04:00    54\u001b[39;00m\n\u001b[0;32m   9696\u001b[0m \u001b[38;5;124;03m    2000-10-02 00:21:00    24\u001b[39;00m\n\u001b[0;32m   9697\u001b[0m \u001b[38;5;124;03m    Freq: 17min, dtype: int64\u001b[39;00m\n\u001b[0;32m   9698\u001b[0m \n\u001b[0;32m   9699\u001b[0m \u001b[38;5;124;03m    >>> ts.resample('17min', offset='23h30min').sum()\u001b[39;00m\n\u001b[0;32m   9700\u001b[0m \u001b[38;5;124;03m    2000-10-01 23:30:00     9\u001b[39;00m\n\u001b[0;32m   9701\u001b[0m \u001b[38;5;124;03m    2000-10-01 23:47:00    21\u001b[39;00m\n\u001b[0;32m   9702\u001b[0m \u001b[38;5;124;03m    2000-10-02 00:04:00    54\u001b[39;00m\n\u001b[0;32m   9703\u001b[0m \u001b[38;5;124;03m    2000-10-02 00:21:00    24\u001b[39;00m\n\u001b[0;32m   9704\u001b[0m \u001b[38;5;124;03m    Freq: 17min, dtype: int64\u001b[39;00m\n\u001b[0;32m   9705\u001b[0m \n\u001b[0;32m   9706\u001b[0m \u001b[38;5;124;03m    If you want to take the largest Timestamp as the end of the bins:\u001b[39;00m\n\u001b[0;32m   9707\u001b[0m \n\u001b[0;32m   9708\u001b[0m \u001b[38;5;124;03m    >>> ts.resample('17min', origin='end').sum()\u001b[39;00m\n\u001b[0;32m   9709\u001b[0m \u001b[38;5;124;03m    2000-10-01 23:35:00     0\u001b[39;00m\n\u001b[0;32m   9710\u001b[0m \u001b[38;5;124;03m    2000-10-01 23:52:00    18\u001b[39;00m\n\u001b[0;32m   9711\u001b[0m \u001b[38;5;124;03m    2000-10-02 00:09:00    27\u001b[39;00m\n\u001b[0;32m   9712\u001b[0m \u001b[38;5;124;03m    2000-10-02 00:26:00    63\u001b[39;00m\n\u001b[0;32m   9713\u001b[0m \u001b[38;5;124;03m    Freq: 17min, dtype: int64\u001b[39;00m\n\u001b[0;32m   9714\u001b[0m \n\u001b[0;32m   9715\u001b[0m \u001b[38;5;124;03m    In contrast with the `start_day`, you can use `end_day` to take the ceiling\u001b[39;00m\n\u001b[0;32m   9716\u001b[0m \u001b[38;5;124;03m    midnight of the largest Timestamp as the end of the bins and drop the bins\u001b[39;00m\n\u001b[0;32m   9717\u001b[0m \u001b[38;5;124;03m    not containing data:\u001b[39;00m\n\u001b[0;32m   9718\u001b[0m \n\u001b[0;32m   9719\u001b[0m \u001b[38;5;124;03m    >>> ts.resample('17min', origin='end_day').sum()\u001b[39;00m\n\u001b[0;32m   9720\u001b[0m \u001b[38;5;124;03m    2000-10-01 23:38:00     3\u001b[39;00m\n\u001b[0;32m   9721\u001b[0m \u001b[38;5;124;03m    2000-10-01 23:55:00    15\u001b[39;00m\n\u001b[0;32m   9722\u001b[0m \u001b[38;5;124;03m    2000-10-02 00:12:00    45\u001b[39;00m\n\u001b[0;32m   9723\u001b[0m \u001b[38;5;124;03m    2000-10-02 00:29:00    45\u001b[39;00m\n\u001b[0;32m   9724\u001b[0m \u001b[38;5;124;03m    Freq: 17min, dtype: int64\u001b[39;00m\n\u001b[0;32m   9725\u001b[0m \u001b[38;5;124;03m    \"\"\"\u001b[39;00m\n\u001b[0;32m   9726\u001b[0m     \u001b[38;5;28;01mfrom\u001b[39;00m \u001b[38;5;21;01mpandas\u001b[39;00m\u001b[38;5;21;01m.\u001b[39;00m\u001b[38;5;21;01mcore\u001b[39;00m\u001b[38;5;21;01m.\u001b[39;00m\u001b[38;5;21;01mresample\u001b[39;00m \u001b[38;5;28;01mimport\u001b[39;00m get_resampler\n\u001b[0;32m   9728\u001b[0m     \u001b[38;5;28;01mif\u001b[39;00m axis \u001b[38;5;129;01mis\u001b[39;00m \u001b[38;5;129;01mnot\u001b[39;00m lib\u001b[38;5;241m.\u001b[39mno_default:\n",
      "File \u001b[1;32mc:\\Users\\3hm06\\anaconda3\\Lib\\site-packages\\pandas\\core\\resample.py:1969\u001b[0m, in \u001b[0;36mget_resampler\u001b[1;34m(obj, kind, **kwds)\u001b[0m\n\u001b[0;32m   1955\u001b[0m \u001b[38;5;28;01mdef\u001b[39;00m \u001b[38;5;21m_upsample\u001b[39m(\u001b[38;5;28mself\u001b[39m, method, limit: \u001b[38;5;28mint\u001b[39m \u001b[38;5;241m|\u001b[39m \u001b[38;5;28;01mNone\u001b[39;00m \u001b[38;5;241m=\u001b[39m \u001b[38;5;28;01mNone\u001b[39;00m, fill_value\u001b[38;5;241m=\u001b[39m\u001b[38;5;28;01mNone\u001b[39;00m):\n\u001b[0;32m   1956\u001b[0m \u001b[38;5;250m    \u001b[39m\u001b[38;5;124;03m\"\"\"\u001b[39;00m\n\u001b[0;32m   1957\u001b[0m \u001b[38;5;124;03m    Parameters\u001b[39;00m\n\u001b[0;32m   1958\u001b[0m \u001b[38;5;124;03m    ----------\u001b[39;00m\n\u001b[0;32m   1959\u001b[0m \u001b[38;5;124;03m    method : {'backfill', 'bfill', 'pad', 'ffill'}\u001b[39;00m\n\u001b[0;32m   1960\u001b[0m \u001b[38;5;124;03m        Method for upsampling.\u001b[39;00m\n\u001b[0;32m   1961\u001b[0m \u001b[38;5;124;03m    limit : int, default None\u001b[39;00m\n\u001b[0;32m   1962\u001b[0m \u001b[38;5;124;03m        Maximum size gap to fill when reindexing.\u001b[39;00m\n\u001b[0;32m   1963\u001b[0m \u001b[38;5;124;03m    fill_value : scalar, default None\u001b[39;00m\n\u001b[0;32m   1964\u001b[0m \u001b[38;5;124;03m        Value to use for missing values.\u001b[39;00m\n\u001b[0;32m   1965\u001b[0m \n\u001b[0;32m   1966\u001b[0m \u001b[38;5;124;03m    See Also\u001b[39;00m\n\u001b[0;32m   1967\u001b[0m \u001b[38;5;124;03m    --------\u001b[39;00m\n\u001b[0;32m   1968\u001b[0m \u001b[38;5;124;03m    .fillna: Fill NA/NaN values using the specified method.\u001b[39;00m\n\u001b[1;32m-> 1969\u001b[0m \n\u001b[0;32m   1970\u001b[0m \u001b[38;5;124;03m    \"\"\"\u001b[39;00m\n\u001b[0;32m   1971\u001b[0m     \u001b[38;5;66;03m# we may need to actually resample as if we are timestamps\u001b[39;00m\n\u001b[0;32m   1972\u001b[0m     \u001b[38;5;28;01mif\u001b[39;00m \u001b[38;5;28mself\u001b[39m\u001b[38;5;241m.\u001b[39mkind \u001b[38;5;241m==\u001b[39m \u001b[38;5;124m\"\u001b[39m\u001b[38;5;124mtimestamp\u001b[39m\u001b[38;5;124m\"\u001b[39m:\n",
      "File \u001b[1;32mc:\\Users\\3hm06\\anaconda3\\Lib\\site-packages\\pandas\\core\\resample.py:2046\u001b[0m, in \u001b[0;36m__init__\u001b[1;34m(self, freq, closed, label, how, axis, fill_method, limit, kind, convention, origin, offset, group_keys, **kwargs)\u001b[0m\n\u001b[0;32m   2045\u001b[0m \u001b[38;5;28;01mdef\u001b[39;00m \u001b[38;5;21mget_resampler\u001b[39m(obj: Series \u001b[38;5;241m|\u001b[39m DataFrame, kind\u001b[38;5;241m=\u001b[39m\u001b[38;5;28;01mNone\u001b[39;00m, \u001b[38;5;241m*\u001b[39m\u001b[38;5;241m*\u001b[39mkwds) \u001b[38;5;241m-\u001b[39m\u001b[38;5;241m>\u001b[39m Resampler:\n\u001b[1;32m-> 2046\u001b[0m \u001b[38;5;250m    \u001b[39m\u001b[38;5;124;03m\"\"\"\u001b[39;00m\n\u001b[0;32m   2047\u001b[0m \u001b[38;5;124;03m    Create a TimeGrouper and return our resampler.\u001b[39;00m\n\u001b[0;32m   2048\u001b[0m \u001b[38;5;124;03m    \"\"\"\u001b[39;00m\n\u001b[0;32m   2049\u001b[0m     tg \u001b[38;5;241m=\u001b[39m TimeGrouper(obj, \u001b[38;5;241m*\u001b[39m\u001b[38;5;241m*\u001b[39mkwds)  \u001b[38;5;66;03m# type: ignore[arg-type]\u001b[39;00m\n\u001b[0;32m   2050\u001b[0m     \u001b[38;5;28;01mreturn\u001b[39;00m tg\u001b[38;5;241m.\u001b[39m_get_resampler(obj, kind\u001b[38;5;241m=\u001b[39mkind)\n",
      "File \u001b[1;32moffsets.pyx:4460\u001b[0m, in \u001b[0;36mpandas._libs.tslibs.offsets.to_offset\u001b[1;34m()\u001b[0m\n",
      "File \u001b[1;32moffsets.pyx:4557\u001b[0m, in \u001b[0;36mpandas._libs.tslibs.offsets.to_offset\u001b[1;34m()\u001b[0m\n",
      "\u001b[1;31mValueError\u001b[0m: Invalid frequency: ME"
     ]
    }
   ],
   "source": [
    "# [+] 다운샘플링: resample()\n",
    "goog_downsampled = goog.resample('ME').mean()\n",
    "goog_downsampled"
   ]
  },
  {
   "cell_type": "code",
   "execution_count": null,
   "id": "70a2b3be-d607-485e-af24-a776dc544f59",
   "metadata": {},
   "outputs": [],
   "source": [
    "fig, ax = plt.subplots(2, 1, sharey=True, figsize=(12, 6))\n",
    "goog.plot(label='original', ax=ax[0])\n",
    "ax[0].legend()\n",
    "goog_downsampled.plot(label='downsampled', ax=ax[1])\n",
    "ax[1].legend()\n",
    "plt.tight_layout()"
   ]
  },
  {
   "cell_type": "code",
   "execution_count": null,
   "id": "92933ed0-dfdd-4096-bad5-97c1bad86fc9",
   "metadata": {},
   "outputs": [],
   "source": [
    "# [+] 다운샘플링: asfreq()\n",
    "goog_downsampled = goog.asfreq('ME')\n",
    "print(goog_downsampled)\n",
    "\n",
    "goog_downsampled.plot()"
   ]
  },
  {
   "cell_type": "code",
   "execution_count": null,
   "id": "f5157a71-bbd8-4cc8-8da8-6bd2d9cd571f",
   "metadata": {},
   "outputs": [],
   "source": [
    "# [+] 업샘플링: resample()\n",
    "goog_upsampled = ('12h').mean()\n",
    "print(goog_upsampled)"
   ]
  },
  {
   "cell_type": "markdown",
   "id": "9baa8ef4-abd6-445b-aae6-c48d38eef907",
   "metadata": {},
   "source": [
    "#### <strong> 시프팅(Shifting)\n",
    "+ ```shift(periods)``` : ```periods``` 값 만큼 시계열 이동"
   ]
  },
  {
   "cell_type": "code",
   "execution_count": null,
   "id": "38cdd9f0-e5e6-4d55-abe1-d965cf976cac",
   "metadata": {},
   "outputs": [],
   "source": [
    "# [+] 900일 뒤로 시프팅 적용\n",
    "goog_shifted = goog.shift(periods=900)\n",
    "goog_shifted"
   ]
  },
  {
   "cell_type": "code",
   "execution_count": null,
   "id": "d7b07045-9b55-4038-be1b-b3d1f4aff8dd",
   "metadata": {},
   "outputs": [],
   "source": [
    "fig, ax = plt.subplots(2, 1, sharey=True, figsize=(12, 6))\n",
    "\n",
    "# Legends and annotations\n",
    "local_max = pd.to_datetime('2007-11-05')\n",
    "offset = pd.Timedelta(900, 'D')\n",
    "\n",
    "goog.plot(label='original', ax=ax[0])\n",
    "ax[0].legend()\n",
    "ax[0].get_xticklabels()[2].set(weight='heavy', color='red')\n",
    "ax[0].axvline(local_max, alpha=0.3, color='red')\n",
    "\n",
    "goog_shifted.plot(label='shifted 900 days', ax=ax[1])\n",
    "ax[1].legend()\n",
    "ax[1].get_xticklabels()[2].set(weight='heavy', color='red')\n",
    "ax[1].axvline(local_max + offset, alpha=0.3, color='red')\n",
    "\n",
    "plt.tight_layout()"
   ]
  },
  {
   "cell_type": "code",
   "execution_count": null,
   "id": "830718c8-39e4-47ce-885c-49154048ede3",
   "metadata": {},
   "outputs": [],
   "source": [
    "# shifting 응용: 주가 변화율 계산\n",
    "goog_shifted = goog.shift(periods=1) # [+] 시프팅\n",
    "(goog - goog_shifted) / goog_shifted # [+] 주가 변화율 계산"
   ]
  },
  {
   "cell_type": "code",
   "execution_count": null,
   "id": "c3094617-5cd4-48af-a6b6-489882111b76",
   "metadata": {},
   "outputs": [],
   "source": [
    "# shifting 응용: 차분 시계열 구하기\n",
    "goog_diff = goog - goog_shifted  # [+] 차분\n",
    "print(goog_diff)\n",
    "\n",
    "goog_diff.plot()"
   ]
  },
  {
   "cell_type": "markdown",
   "id": "a74b7d31-d29b-4db8-837a-cf2468b3f834",
   "metadata": {},
   "source": [
    "#### <strong> 윈도잉(Windowing)"
   ]
  },
  {
   "cell_type": "code",
   "execution_count": null,
   "id": "f032ee09-fd75-47ec-955b-998d11286f5b",
   "metadata": {},
   "outputs": [],
   "source": [
    "# [+] 365일 단위 윈도잉\n",
    "goog_rolled = goog.rolling(365)\n",
    "print(goog_rolled)\n",
    "\n",
    "goog_rolled.mean().plot()"
   ]
  },
  {
   "cell_type": "code",
   "execution_count": null,
   "id": "319099d2-f163-4fee-a7f5-53321821c588",
   "metadata": {},
   "outputs": [],
   "source": [
    "data = pd.DataFrame({'input': goog.values.flatten(),\n",
    "                     # moving average\n",
    "                     'one-year rolling_mean': goog_rolled.mean().values.flatten(), \n",
    "                     # standard deviation\n",
    "                     'one-year rolling_std': goog_rolled.std().values.flatten()}, index=goog.index)\n",
    "ax = data.plot(style=['-', '--', ':'])\n",
    "ax.lines[0].set_alpha(0.3)"
   ]
  }
 ],
 "metadata": {
  "kernelspec": {
   "display_name": "base",
   "language": "python",
   "name": "python3"
  },
  "language_info": {
   "codemirror_mode": {
    "name": "ipython",
    "version": 3
   },
   "file_extension": ".py",
   "mimetype": "text/x-python",
   "name": "python",
   "nbconvert_exporter": "python",
   "pygments_lexer": "ipython3",
   "version": "3.11.7"
  }
 },
 "nbformat": 4,
 "nbformat_minor": 5
}
