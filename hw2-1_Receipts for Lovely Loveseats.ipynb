{
 "cells": [
  {
   "cell_type": "markdown",
   "id": "d05a03be",
   "metadata": {},
   "source": [
    "### 과제 1: Receipts for Lovely Loveseats\n",
    "----"
   ]
  },
  {
   "cell_type": "code",
   "execution_count": 1,
   "id": "16060aac",
   "metadata": {},
   "outputs": [],
   "source": [
    "lovely_loveseat_description = \"Lovely Loveseat. Tufted polyester blend on wood. 32 inches high x 40 inches wide x 30 inches deep. Red or white.\"\n",
    "lovely_loveseat_price = 254.00"
   ]
  },
  {
   "cell_type": "code",
   "execution_count": 2,
   "id": "6586a908",
   "metadata": {},
   "outputs": [],
   "source": [
    "stylish_settee_description = \"Stylish Settee. Faux leather on birch. 29.50 inches high x 54.75 inches wide x 28 inches deep. Black.\"\n",
    "stylish_settee_price = 180.50"
   ]
  },
  {
   "cell_type": "code",
   "execution_count": 3,
   "id": "ef82ff54",
   "metadata": {},
   "outputs": [],
   "source": [
    "luxurious_lamp_description = \"Luxurious Lamp. Glass and iron. 36 inches tall. Brown with cream shade.\"\n",
    "luxurious_lamp_price = 52.15"
   ]
  },
  {
   "cell_type": "code",
   "execution_count": 4,
   "id": "6b4e4eed",
   "metadata": {},
   "outputs": [],
   "source": [
    "sales_tax = 0.088"
   ]
  },
  {
   "cell_type": "markdown",
   "id": "5e6db021",
   "metadata": {},
   "source": [
    " Our First Customer"
   ]
  },
  {
   "cell_type": "code",
   "execution_count": 5,
   "id": "9d34336a",
   "metadata": {},
   "outputs": [],
   "source": [
    "customer_one_totla = 0\n",
    "customer_one_itemisation = \"\""
   ]
  },
  {
   "cell_type": "code",
   "execution_count": 6,
   "id": "0ff98e91",
   "metadata": {},
   "outputs": [],
   "source": [
    "customer_one_totla += lovely_loveseat_price\n",
    "customer_one_itemisation += lovely_loveseat_description"
   ]
  },
  {
   "cell_type": "code",
   "execution_count": 7,
   "id": "20551a3c",
   "metadata": {},
   "outputs": [],
   "source": [
    "customer_one_totla += luxurious_lamp_price\n",
    "customer_one_itemisation += luxurious_lamp_description"
   ]
  },
  {
   "cell_type": "code",
   "execution_count": 8,
   "id": "71b21874",
   "metadata": {},
   "outputs": [],
   "source": [
    "customer_one_tax = customer_one_totla * sales_tax"
   ]
  },
  {
   "cell_type": "code",
   "execution_count": 9,
   "id": "0a77d2f1",
   "metadata": {},
   "outputs": [],
   "source": [
    "customer_one_totla += customer_one_tax"
   ]
  },
  {
   "cell_type": "code",
   "execution_count": 10,
   "id": "049ad711",
   "metadata": {},
   "outputs": [
    {
     "name": "stdout",
     "output_type": "stream",
     "text": [
      "customer_one_items :  Lovely Loveseat. Tufted polyester blend on wood. 32 inches high x 40 inches wide x 30 inches deep. Red or white.Luxurious Lamp. Glass and iron. 36 inches tall. Brown with cream shade.\n",
      "customer_one_totla :  333.09119999999996\n"
     ]
    }
   ],
   "source": [
    "print(\"customer_one_items : \", customer_one_itemisation)\n",
    "print(\"customer_one_totla : \", customer_one_totla)"
   ]
  }
 ],
 "metadata": {
  "kernelspec": {
   "display_name": "base",
   "language": "python",
   "name": "python3"
  },
  "language_info": {
   "codemirror_mode": {
    "name": "ipython",
    "version": 3
   },
   "file_extension": ".py",
   "mimetype": "text/x-python",
   "name": "python",
   "nbconvert_exporter": "python",
   "pygments_lexer": "ipython3",
   "version": "3.11.7"
  }
 },
 "nbformat": 4,
 "nbformat_minor": 5
}
